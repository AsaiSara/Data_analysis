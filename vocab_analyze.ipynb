{
 "cells": [
  {
   "cell_type": "code",
   "execution_count": 165,
   "metadata": {},
   "outputs": [],
   "source": [
    "from collections import Counter\n",
    "import pickle\n",
    "import sentencepiece as spm\n",
    "from matplotlib import pyplot as plt\n",
    "import re"
   ]
  },
  {
   "cell_type": "code",
   "execution_count": 227,
   "metadata": {},
   "outputs": [],
   "source": [
    "def sentence_piece(vocab_path):\n",
    "    sp = spm.SentencePieceProcessor()\n",
    "    sp.Load(vocab_path)\n",
    "    n_words = len(sp)\n",
    "    return sp, n_words"
   ]
  },
  {
   "cell_type": "code",
   "execution_count": 457,
   "metadata": {},
   "outputs": [],
   "source": [
    "def calc_unk(unk_uttrs, vocab_path):\n",
    "    s = r\"[！”＃＄％＆’（）＝～｜‘｛＋＊｝＜＞？＿－＾￥＠「；：」、。・\\\\p{Punct}]*\"\n",
    "    sp, _ = sentence_piece(vocab_path)\n",
    "    unk_uttrs = unk_uttrs\n",
    "    uttr_decode = [sp.DecodeIds(sp.EncodeAsIds(uttr)) for uttr in unk_uttrs]\n",
    "    print(len(unk_uttrs), len(uttr_decode))\n",
    "    #unk_word = [[ud for ud in unk_uttrs[i] if ud not in uu and not re.search(ud, s)] for i, uu in enumerate(uttr_decode)]\n",
    "    unk_word = []\n",
    "    [[unk_word.append(ud.strip(\"[！,？]*\")) for ud in unk_uttrs[i] if ud not in uu and ud.strip(\"[！,？,!,?]*\") != \"\"] for i, uu in enumerate(uttr_decode)]\n",
    "    return unk_word"
   ]
  },
  {
   "cell_type": "code",
   "execution_count": 458,
   "metadata": {},
   "outputs": [],
   "source": [
    "def vocab_count(dial_path, vocab_path):\n",
    "    f_dial = open(dial_path, 'r')\n",
    "    dial = f_dial.readlines()[:100000]\n",
    "    sp, n_words = sentence_piece(vocab_path)\n",
    "    uttrs = []\n",
    "    [uttrs.append(i) for j in dial for i in j.strip().split('\\t')]\n",
    "    data = [sp.EncodeAsIds(i) for i in uttrs]\n",
    "    dial_vocab = []\n",
    "    unk_vocab = []\n",
    "    [[dial_vocab.append(i) if i != 3 else (dial_vocab.append(i),unk_vocab.append(uttrs[n])) for i in j] for n, j in enumerate(data)]\n",
    "    #try:\n",
    "    unk_words = calc_unk(unk_vocab, vocab_path)\n",
    "    #except:\n",
    "    #    unk_words = 0\n",
    "    c = Counter(dial_vocab)\n",
    "    words_len = sum(c.values())\n",
    "    words_rate = [c[i]/words_len for i in range(n_words)]\n",
    "    #unk_len = c[3]\n",
    "    return c, n_words, words_len, unk_words, unk_vocab, words_rate"
   ]
  },
  {
   "cell_type": "code",
   "execution_count": 459,
   "metadata": {},
   "outputs": [],
   "source": [
    "def calc_cover1(unk_words, word_len):\n",
    "    return 1.0 - len(unk_words)/word_len"
   ]
  },
  {
   "cell_type": "code",
   "execution_count": 460,
   "metadata": {},
   "outputs": [],
   "source": [
    "def calc_cover2(c1, c2, word_len):  \n",
    "    return 1.0 - len(unk_words)/word_len"
   ]
  },
  {
   "cell_type": "code",
   "execution_count": 501,
   "metadata": {},
   "outputs": [
    {
     "name": "stdout",
     "output_type": "stream",
     "text": [
      "7 7\n",
      "874 874\n",
      "43 43\n",
      "4492 4492\n"
     ]
    }
   ],
   "source": [
    "dial_path1 = \"../data/em_dial/splitted/cleaning/train_dial.txt\"\n",
    "dial_path1a = \"../data/em_dial/splitted/all/train_dial.txt\"\n",
    "dial_path2 = \"../data/op_sub_dial/splitted/train_dial.txt\"\n",
    "dial_path3 = \"../data/twitter_dial/splitted/train_dial.txt\"\n",
    "vocab_path1 = \"../data/twitter_dial/vocab/spvocab.model\"\n",
    "vocab_path2 =  \"../data/op_sub_dial/vocab/spvocab.model\"\n",
    "c11, n11, w11, u11, uv11, wr11 = vocab_count(dial_path1, vocab_path1)\n",
    "c12, n12, w12, u12, uv12, wr12 = vocab_count(dial_path1, vocab_path2)\n",
    "c1a1, n1a1, w1a1, u1a1, uv1a1, wr1a1 = vocab_count(dial_path1a, vocab_path1)\n",
    "c1a2, n1a2, w1a2, u1a2, uv1a2, wr1a2 = vocab_count(dial_path1a, vocab_path2)"
   ]
  },
  {
   "cell_type": "code",
   "execution_count": 323,
   "metadata": {},
   "outputs": [
    {
     "name": "stdout",
     "output_type": "stream",
     "text": [
      "1465 1465\n",
      "1279 1279\n"
     ]
    }
   ],
   "source": [
    "c21, n21, w21, u21, uv21, wr21 = vocab_count(dial_path2, vocab_path1)\n",
    "c22, n22, w22, u22, uv22, wr22 = vocab_count(dial_path2, vocab_path2)"
   ]
  },
  {
   "cell_type": "code",
   "execution_count": 470,
   "metadata": {},
   "outputs": [
    {
     "name": "stdout",
     "output_type": "stream",
     "text": [
      "1834 1834\n"
     ]
    }
   ],
   "source": [
    "c31, n31, w31, u31, uv31, wr31 = vocab_count(dial_path3, vocab_path1)"
   ]
  },
  {
   "cell_type": "code",
   "execution_count": 478,
   "metadata": {},
   "outputs": [
    {
     "data": {
      "text/plain": [
       "0.036347775516138416"
      ]
     },
     "execution_count": 478,
     "metadata": {},
     "output_type": "execute_result"
    }
   ],
   "source": []
  },
  {
   "cell_type": "code",
   "execution_count": 483,
   "metadata": {},
   "outputs": [
    {
     "name": "stdout",
     "output_type": "stream",
     "text": [
      "24073 23940 115093 115013 1183464 999684 1897317\n"
     ]
    }
   ],
   "source": [
    "print(w11,w12,w1a1,w1a2,w21,w22,w31)"
   ]
  },
  {
   "cell_type": "code",
   "execution_count": 482,
   "metadata": {},
   "outputs": [
    {
     "name": "stdout",
     "output_type": "stream",
     "text": [
      "0.9997092177958709\n",
      "0.9634920634920635\n",
      "0.999626389094037\n",
      "0.9609435455122465\n",
      "0.9987621085221012\n",
      "0.9987205957082438\n",
      "0.9990333718614233\n"
     ]
    }
   ],
   "source": [
    "print(calc_cover(uv11,w11))\n",
    "print(calc_cover(uv12,w12))\n",
    "print(calc_cover(uv1a1,w1a1))\n",
    "print(calc_cover(uv1a2,w1a2))\n",
    "print(calc_cover(uv21,w21))\n",
    "print(calc_cover(uv22,w22))\n",
    "print(calc_cover(uv31,w31))"
   ]
  },
  {
   "cell_type": "code",
   "execution_count": 437,
   "metadata": {},
   "outputs": [],
   "source": [
    "cu12 = Counter(u12)\n",
    "cu11 = Counter(u11)"
   ]
  },
  {
   "cell_type": "code",
   "execution_count": 425,
   "metadata": {},
   "outputs": [
    {
     "data": {
      "text/plain": [
       "1200"
      ]
     },
     "execution_count": 425,
     "metadata": {},
     "output_type": "execute_result"
    }
   ],
   "source": [
    "sum(cu12.values())"
   ]
  },
  {
   "cell_type": "code",
   "execution_count": 453,
   "metadata": {},
   "outputs": [
    {
     "data": {
      "text/plain": [
       "189"
      ]
     },
     "execution_count": 453,
     "metadata": {},
     "output_type": "execute_result"
    }
   ],
   "source": [
    "len([u.strip(\"[！,？]*\")  for u in u12 if u.strip(\"[！,？,!,?]*\") != \"\"])"
   ]
  },
  {
   "cell_type": "code",
   "execution_count": 407,
   "metadata": {},
   "outputs": [
    {
     "data": {
      "text/plain": [
       "[]"
      ]
     },
     "execution_count": 407,
     "metadata": {},
     "output_type": "execute_result"
    }
   ],
   "source": [
    "cu11.most_common()[:]"
   ]
  },
  {
   "cell_type": "code",
   "execution_count": 506,
   "metadata": {},
   "outputs": [
    {
     "data": {
      "text/plain": [
       "473"
      ]
     },
     "execution_count": 506,
     "metadata": {},
     "output_type": "execute_result"
    }
   ],
   "source": [
    "c11[31998]"
   ]
  },
  {
   "cell_type": "code",
   "execution_count": 505,
   "metadata": {},
   "outputs": [
    {
     "data": {
      "text/plain": [
       "0"
      ]
     },
     "execution_count": 505,
     "metadata": {},
     "output_type": "execute_result"
    }
   ],
   "source": [
    "c21[31995]"
   ]
  },
  {
   "cell_type": "code",
   "execution_count": 498,
   "metadata": {},
   "outputs": [
    {
     "data": {
      "text/plain": [
       "[4, 31995]"
      ]
     },
     "execution_count": 498,
     "metadata": {},
     "output_type": "execute_result"
    }
   ],
   "source": [
    "sp_op, _  = sentence_piece(vocab_path1)\n",
    "sp.EncodeAsIds(\"!\")\n",
    "#sp.DecodeIds([31995, 31998])"
   ]
  },
  {
   "cell_type": "code",
   "execution_count": 181,
   "metadata": {},
   "outputs": [],
   "source": [
    "c3, n3, w3, u3, wr3 = vocab_count(dial_path3, vocab_path1)"
   ]
  },
  {
   "cell_type": "code",
   "execution_count": 210,
   "metadata": {},
   "outputs": [
    {
     "name": "stdout",
     "output_type": "stream",
     "text": [
      "<_sre.SRE_Match object; span=(3, 4), match='？'>\n"
     ]
    }
   ],
   "source": [
    "print(re.search(\"？\", \"[！,？]\"))"
   ]
  },
  {
   "cell_type": "code",
   "execution_count": 473,
   "metadata": {},
   "outputs": [
    {
     "data": {
      "text/plain": [
       "['たかせも苫小牧くるって',\n",
       " 'ほわほわ〜〜 ˙Ꙫ˙',\n",
       " ' だから 斑目 貘だって´ω｀ﾌﾞﾌｫwww',\n",
       " ' だから 斑目 貘だって´ω｀ﾌﾞﾌｫwww',\n",
       " 'あるあるだね 持ってる人は持ってるということか…▂▅▇█▓▒░’ω’░▒▓█▇▅▂うわあああああ',\n",
       " 'あるあるだね 持ってる人は持ってるということか…▂▅▇█▓▒░’ω’░▒▓█▇▅▂うわあああああ',\n",
       " 'あるあるだね 持ってる人は持ってるということか…▂▅▇█▓▒░’ω’░▒▓█▇▅▂うわあああああ',\n",
       " 'あるあるだね 持ってる人は持ってるということか…▂▅▇█▓▒░’ω’░▒▓█▇▅▂うわあああああ',\n",
       " '怜乎が可愛くてつい…',\n",
       " '伶さんの先生ですか',\n",
       " 'おう アヘ顏ダブルピースの顔文字化の煽り',\n",
       " '뭔가 특산물 느낌 가득이에요',\n",
       " '뭔가 특산물 느낌 가득이에요',\n",
       " '뭔가 특산물 느낌 가득이에요',\n",
       " '뭔가 특산물 느낌 가득이에요',\n",
       " 'ラーメンは全然わからないミャオ…橿原周辺ミャオ',\n",
       " 'お恥ずかしいですがその通りです️ ⍨ ️',\n",
       " 'どうなんだろうww 割と20代と10代の折衷かもよww',\n",
       " '疚しいこと考えてそう',\n",
       " '優斗ありがとーっプレゼントが今届いた〜 母カンゲキっ 大切に着るね♡ •·τнänκ чöü·•๑ºั╰╯ºั๑ 愛してるよ…',\n",
       " '優斗ありがとーっプレゼントが今届いた〜 母カンゲキっ 大切に着るね♡ •·τнänκ чöü·•๑ºั╰╯ºั๑ 愛してるよ…',\n",
       " '優斗ありがとーっプレゼントが今届いた〜 母カンゲキっ 大切に着るね♡ •·τнänκ чöü·•๑ºั╰╯ºั๑ 愛してるよ…',\n",
       " '優斗ありがとーっプレゼントが今届いた〜 母カンゲキっ 大切に着るね♡ •·τнänκ чöü·•๑ºั╰╯ºั๑ 愛してるよ…',\n",
       " ' あ、二宮くんだ お迎えありがとうね いやー 、嬉しいなぁ ♚',\n",
       " 'はい。たぶん、それで地面のパースと比較して辻褄が合わなくなってるんだと思います',\n",
       " '禮の言う通りだよ。本当紙一重だよな。要らん事って笑賑やかなの俺、いきなりそんな所お邪魔して大丈夫かな禮がキリンさんになる前になるべく行きたいと思います。',\n",
       " '禮の言う通りだよ。本当紙一重だよな。要らん事って笑賑やかなの俺、いきなりそんな所お邪魔して大丈夫かな禮がキリンさんになる前になるべく行きたいと思います。',\n",
       " 'うっさいΤwitter先生',\n",
       " 'うんそれか、お酒をキッパリ辞めるかなとも思ってる 血圧も腎臓も悪いし、うつ病も患ってるからね…',\n",
       " 'なんかユニバで並んでたら後ろの人が山﨑くんの悪口言ってた 何がわかるんだ笑 やっぱり山﨑賢人って聞いたら反応しちゃうよね笑',\n",
       " 'なんかユニバで並んでたら後ろの人が山﨑くんの悪口言ってた 何がわかるんだ笑 やっぱり山﨑賢人って聞いたら反応しちゃうよね笑',\n",
       " 'むふふふふ ≘⃘॔ ʖ̫̮ ≘⃘॓',\n",
       " 'むふふふふ ≘⃘॔ ʖ̫̮ ≘⃘॓',\n",
       " 'むふふふふ ≘⃘॔ ʖ̫̮ ≘⃘॓',\n",
       " 'むふふふふ ≘⃘॔ ʖ̫̮ ≘⃘॓',\n",
       " '地獄に行きたいでしたら「別府地獄めぐり」をググって公式サイトを見ると良いですよえそんな事いってない・・・そうですか。キラキラした瞳の閻魔大王とか面白いサイトですよ',\n",
       " '200万……複雑な顔そうだね、僕も使わないけど←そうそう、れんばのとこは岩融級の麸菓子があるんだっけこいつ誰だって引くやつだよね…',\n",
       " ' いいですね\\U000fe332\\U000feb97 うちは明日もレッスンです\\U000feb56',\n",
       " ' いいですね\\U000fe332\\U000feb97 うちは明日もレッスンです\\U000feb56',\n",
       " ' 鯵好きだよ、わし 今になって、黒執事行けば良かったなぁとか思ってる← たっくんのグレル好きでさ  矢田ちゃんも気になるよ ´･ω･',\n",
       " ' 魬',\n",
       " 'なんだ、てっきり鰻に喩えられた方に噛み付くかと思ったが',\n",
       " '闇の眷属たる俺に喧嘩売っちゃう',\n",
       " '烙瞬「あわわ、ありがとカズにぃ',\n",
       " '悩むなぁ…昼あっさりからの夜がっつり涅槃仏のポーズで考案中',\n",
       " '滄我の……声………あっ、すみません、なんですか',\n",
       " '難易度インフェルノ蝋燭プレイ',\n",
       " '今、嘗て無い程の真顔を見た気がするゥ…。アﾁｯ、遅くまで御苦労チャン。今夜は寝れない♡とかそうゆうヤツ',\n",
       " '私も1曲目ででました びっくりしました“・ц・',\n",
       " '一連托生 2回行けばさ、一枚余るじゃんくれよ']"
      ]
     },
     "execution_count": 473,
     "metadata": {},
     "output_type": "execute_result"
    }
   ],
   "source": [
    "uv31[:50]"
   ]
  },
  {
   "cell_type": "code",
   "execution_count": 222,
   "metadata": {},
   "outputs": [],
   "source": [
    "def calc_cover(unk_words, word_len):\n",
    "    return 1.0 - len(unk_words)/word_len"
   ]
  },
  {
   "cell_type": "code",
   "execution_count": 224,
   "metadata": {},
   "outputs": [
    {
     "name": "stdout",
     "output_type": "stream",
     "text": [
      "0.9997091332169866\n",
      "0.9987621085221012\n",
      "0.9991926090217166\n"
     ]
    }
   ],
   "source": [
    "print(calc_cover(u1,w1))\n",
    "print(calc_cover(u2,w2))\n",
    "print(calc_cover(u3,w3))"
   ]
  },
  {
   "cell_type": "code",
   "execution_count": 146,
   "metadata": {},
   "outputs": [
    {
     "data": {
      "text/plain": [
       "[16907, 2640, 3, 6414, 4078, 391, 6]"
      ]
     },
     "execution_count": 146,
     "metadata": {},
     "output_type": "execute_result"
    }
   ],
   "source": [
    "sp, _ = sentence_piece(vocab_path)\n",
    "sp.EncodeAsIds(u1[0])"
   ]
  },
  {
   "cell_type": "markdown",
   "metadata": {},
   "source": [
    "# Plot word rate"
   ]
  },
  {
   "cell_type": "code",
   "execution_count": 11,
   "metadata": {},
   "outputs": [],
   "source": [
    "#for i wr in range enumerate(wr1):\n",
    "import numpy as np\n",
    "\n",
    "def graph_plot(word_rate, n_word, co, max_y):\n",
    "    x = np.arange(0, n_word-4, 1)\n",
    "    y = np.array(word_rate[4:])\n",
    "    plt.bar(x,y, color=co)\n",
    "    plt.title(\"Frequency of occurrence of token\")\n",
    "    plt.xlabel(\"token id\")\n",
    "    plt.ylabel(\"frequency of appearance\")\n",
    "    plt.ylim(0,max_y)\n",
    "    plt.show\n",
    "    \n",
    "def graph_plot(word_rate, n_word, co, max_y):\n",
    "    x = np.arange(0, n_word-4, 1)\n",
    "    y = np.array(word_rate[4:])\n",
    "    plt.bar(x,y, color=co)\n",
    "    plt.title(\"\")\n",
    "    plt.ylim(0,max_y)\n",
    "    plt.show"
   ]
  },
  {
   "cell_type": "code",
   "execution_count": 24,
   "metadata": {},
   "outputs": [
    {
     "data": {
      "image/png": "[encoded data removed]",
      "text/plain": [
       "<Figure size 432x288 with 1 Axes>"
      ]
     },
     "metadata": {},
     "output_type": "display_data"
    }
   ],
   "source": [
    "graph_plot(wr1, n1, 'r', 0.0005)"
   ]
  },
  {
   "cell_type": "code",
   "execution_count": 107,
   "metadata": {},
   "outputs": [
    {
     "data": {
      "image/png": "[encoded data removed]",
      "text/plain": [
       "<Figure size 432x288 with 1 Axes>"
      ]
     },
     "metadata": {},
     "output_type": "display_data"
    }
   ],
   "source": [
    "graph_plot(wr2, n2, 'g', 0.0005)"
   ]
  },
  {
   "cell_type": "code",
   "execution_count": 108,
   "metadata": {
    "scrolled": true
   },
   "outputs": [
    {
     "data": {
      "image/png": "[encoded data removed]",
      "text/plain": [
       "<Figure size 432x288 with 1 Axes>"
      ]
     },
     "metadata": {},
     "output_type": "display_data"
    }
   ],
   "source": [
    "graph_plot(wr3, n3, 'b', 0.0005) "
   ]
  },
  {
   "cell_type": "code",
   "execution_count": 486,
   "metadata": {},
   "outputs": [
    {
     "data": {
      "image/png": "[encoded data removed]",
      "text/plain": [
       "<Figure size 432x288 with 1 Axes>"
      ]
     },
     "metadata": {},
     "output_type": "display_data"
    }
   ],
   "source": [
    "graph_plot(wr1a1, n1a1, 'm', 0.0005) "
   ]
  },
  {
   "cell_type": "markdown",
   "metadata": {},
   "source": [
    "# Freqency word "
   ]
  },
  {
   "cell_type": "code",
   "execution_count": null,
   "metadata": {},
   "outputs": [],
   "source": [
    "def calc_freq(count, vocab_path, num=20):\n",
    "    sp = spm.SentencePieceProcessor()\n",
    "    sp.Load(vocab_path)\n",
    "    freq_id = [i[0] for i in count.most_common(num)]\n",
    "    num_freq = [i[1] for i in count.most_common(num)]\n",
    "    rare_id = [i[0] for i in count.most_common()[-1:-num-1:-1]]\n",
    "    num_rare = [i[1] for i in count.most_common()[-1:-num-1:-1]]\n",
    "    freq_word = [sp.DecodeIds([i]) for i in freq_id]\n",
    "    rare_word = [sp.DecodeIds([i]) for i in rare_id]\n",
    "    print(\"*** Frequency words ***\")\n",
    "    for i in range(num):\n",
    "        print(\"id={} word=「{}」 freq={}\".format(freq_id[i], freq_word[i], num_freq[i]))\n",
    "    print(\"*** Rare words ***\")\n",
    "    for i in range(num):\n",
    "        print(\"id={} word=「{}」 freq={}\".format(rare_id[i], rare_word[i], num_rare[i]))\n",
    "    return freq_id, num_freq, freq_word"
   ]
  },
  {
   "cell_type": "code",
   "execution_count": 474,
   "metadata": {},
   "outputs": [
    {
     "name": "stdout",
     "output_type": "stream",
     "text": [
      "*** Frequency words ***\n",
      "id=6 word=「。」 freq=2411\n",
      "id=4 word=「」 freq=1258\n",
      "id=5 word=「、」 freq=937\n",
      "id=31998 word=「?」 freq=473\n",
      "id=4996 word=「掃除」 freq=427\n",
      "id=31995 word=「!」 freq=334\n",
      "id=11 word=「が」 freq=317\n",
      "id=23 word=「を」 freq=312\n",
      "id=22 word=「よ」 freq=304\n",
      "id=9 word=「は」 freq=219\n",
      "id=8 word=「の」 freq=202\n",
      "id=9104 word=「]」 freq=198\n",
      "id=16 word=「も」 freq=193\n",
      "id=12 word=「に」 freq=158\n",
      "id=21793 word=「[」 freq=151\n",
      "id=1971 word=「部屋」 freq=146\n",
      "id=27 word=「から」 freq=137\n",
      "id=15 word=「と」 freq=113\n",
      "id=659 word=「数」 freq=109\n",
      "id=30090 word=「詞」 freq=108\n",
      "id=29 word=「です」 freq=102\n",
      "id=18 word=「な」 freq=101\n",
      "id=71 word=「人」 freq=99\n",
      "id=635 word=「名」 freq=91\n",
      "id=21 word=「ね」 freq=85\n",
      "id=26 word=「って」 freq=85\n",
      "id=69 word=「だよ」 freq=85\n",
      "id=64 word=「だから」 freq=79\n",
      "id=16332 word=「ロボット」 freq=77\n",
      "id=4914 word=「汚い」 freq=69\n",
      "*** Rare words ***\n",
      "id=24574 word=「むき」 freq=1\n",
      "id=8185 word=「わかんない」 freq=1\n",
      "id=16370 word=「それまでに」 freq=1\n",
      "id=20476 word=「できるかな」 freq=1\n",
      "id=8163 word=「しなかった」 freq=1\n",
      "id=16350 word=「どうなの」 freq=1\n",
      "id=16347 word=「視力」 freq=1\n",
      "id=16341 word=「少なくて」 freq=1\n",
      "id=8148 word=「くれたの」 freq=1\n",
      "id=16333 word=「いいもの」 freq=1\n",
      "id=5452 word=「残って」 freq=1\n",
      "id=3271 word=「今日の」 freq=1\n",
      "id=27376 word=「よろこんで」 freq=1\n",
      "id=2719 word=「それとも」 freq=1\n",
      "id=16637 word=「勿体無い」 freq=1\n",
      "id=24498 word=「わかったら」 freq=1\n",
      "id=8112 word=「減ら」 freq=1\n",
      "id=2717 word=「上手」 freq=1\n",
      "id=24493 word=「気にしてないよ」 freq=1\n",
      "id=8108 word=「ではないか」 freq=1\n",
      "id=24489 word=「出されて」 freq=1\n",
      "id=8102 word=「ってるから」 freq=1\n",
      "id=8552 word=「吸」 freq=1\n",
      "id=4361 word=「方は」 freq=1\n",
      "id=8089 word=「魅力」 freq=1\n",
      "id=20785 word=「間違ってる」 freq=1\n",
      "id=15272 word=「しなぁ」 freq=1\n",
      "id=8075 word=「なんじゃ」 freq=1\n",
      "id=16254 word=「腕が」 freq=1\n",
      "id=8056 word=「ぼけ」 freq=1\n"
     ]
    }
   ],
   "source": [
    "fre1_id, fre1_n, fre_w = calc_freq(c1, vocab_path, num=30)"
   ]
  },
  {
   "cell_type": "code",
   "execution_count": 476,
   "metadata": {},
   "outputs": [
    {
     "name": "stdout",
     "output_type": "stream",
     "text": [
      "*** Frequency words ***\n",
      "id=4 word=「」 freq=111910\n",
      "id=9104 word=「]」 freq=20863\n",
      "id=23 word=「を」 freq=20508\n",
      "id=8 word=「の」 freq=19841\n",
      "id=9 word=「は」 freq=17622\n",
      "id=5 word=「、」 freq=14961\n",
      "id=71 word=「人」 freq=13951\n",
      "id=11 word=「が」 freq=13452\n",
      "id=21793 word=「[」 freq=12961\n",
      "id=635 word=「名」 freq=12698\n",
      "id=12 word=「に」 freq=11471\n",
      "id=45 word=「だ」 freq=10902\n",
      "id=6 word=「。」 freq=10149\n",
      "id=659 word=「数」 freq=8531\n",
      "id=30090 word=「詞」 freq=8455\n",
      "id=22 word=「よ」 freq=8330\n",
      "id=15239 word=「[」 freq=7902\n",
      "id=15 word=「と」 freq=6822\n",
      "id=10 word=「で」 freq=5792\n",
      "id=25 word=「か」 freq=5648\n",
      "id=18 word=「な」 freq=5303\n",
      "id=16 word=「も」 freq=5181\n",
      "id=19 word=「ー」 freq=4760\n",
      "id=24 word=「・」 freq=3909\n",
      "id=21 word=「ね」 freq=3698\n",
      "id=124 word=「んだ」 freq=3458\n",
      "id=27 word=「から」 freq=3321\n",
      "id=36 word=「・・・」 freq=3313\n",
      "id=44 word=「わ」 freq=2813\n",
      "id=26 word=「って」 freq=2773\n",
      "*** Rare words ***\n",
      "id=31953 word=「屓」 freq=1\n",
      "id=31952 word=「贔」 freq=1\n",
      "id=30895 word=「と比べて」 freq=1\n",
      "id=30798 word=「になっちゃいました」 freq=1\n",
      "id=30607 word=「破裂」 freq=1\n",
      "id=30176 word=「随」 freq=1\n",
      "id=29811 word=「漫」 freq=1\n",
      "id=29724 word=「栓」 freq=1\n",
      "id=29133 word=「の最中」 freq=1\n",
      "id=28439 word=「くだせえ」 freq=1\n",
      "id=28112 word=「お会いしましょう」 freq=1\n",
      "id=27786 word=「へと向か」 freq=1\n",
      "id=27621 word=「そんな言い訳」 freq=1\n",
      "id=27467 word=「シリアス」 freq=1\n",
      "id=27350 word=「一文字」 freq=1\n",
      "id=27033 word=「艶」 freq=1\n",
      "id=26848 word=「ゆるさない」 freq=1\n",
      "id=25921 word=「きてくれた」 freq=1\n",
      "id=25878 word=「拡張」 freq=1\n",
      "id=25630 word=「白黒」 freq=1\n",
      "id=25465 word=「ららら」 freq=1\n",
      "id=24956 word=「気が合う」 freq=1\n",
      "id=24360 word=「とか言えない」 freq=1\n",
      "id=23989 word=「ううっ」 freq=1\n",
      "id=23952 word=「申し込んで」 freq=1\n",
      "id=23700 word=「既」 freq=1\n",
      "id=23534 word=「纏」 freq=1\n",
      "id=22509 word=「寝てしまった」 freq=1\n",
      "id=22210 word=「ぎりぎり」 freq=1\n",
      "id=22204 word=「下半身」 freq=1\n"
     ]
    }
   ],
   "source": [
    "fre2_id, fre2_n, fre2_w = calc_freq(c2, vocab_path, num=30)"
   ]
  },
  {
   "cell_type": "code",
   "execution_count": 500,
   "metadata": {},
   "outputs": [
    {
     "data": {
      "text/plain": [
       "334"
      ]
     },
     "execution_count": 500,
     "metadata": {},
     "output_type": "execute_result"
    }
   ],
   "source": [
    "c1[31995]"
   ]
  },
  {
   "cell_type": "code",
   "execution_count": 477,
   "metadata": {},
   "outputs": [
    {
     "name": "stdout",
     "output_type": "stream",
     "text": [
      "*** Frequency words ***\n",
      "id=4 word=「」 freq=266798\n",
      "id=5 word=「、」 freq=207976\n",
      "id=6 word=「。」 freq=145752\n",
      "id=7 word=「...」 freq=103243\n",
      "id=8 word=「の」 freq=66637\n",
      "id=9 word=「は」 freq=54294\n",
      "id=11 word=「が」 freq=40179\n",
      "id=10 word=「で」 freq=37563\n",
      "id=12 word=「に」 freq=36452\n",
      "id=13 word=「笑」 freq=35592\n",
      "id=14 word=「́」 freq=31721\n",
      "id=16 word=「も」 freq=31323\n",
      "id=15 word=「と」 freq=30077\n",
      "id=17 word=「ω」 freq=28745\n",
      "id=20 word=「w」 freq=28602\n",
      "id=18 word=「な」 freq=28157\n",
      "id=21 word=「ね」 freq=27990\n",
      "id=23 word=「を」 freq=26984\n",
      "id=22 word=「よ」 freq=26888\n",
      "id=19 word=「ー」 freq=26516\n",
      "id=25 word=「か」 freq=22437\n",
      "id=28 word=「〜」 freq=21498\n",
      "id=30 word=「......」 freq=21202\n",
      "id=27 word=「から」 freq=20866\n",
      "id=26 word=「って」 freq=20423\n",
      "id=33 word=「～」 freq=19623\n",
      "id=24 word=「・」 freq=19524\n",
      "id=36 word=「・・・」 freq=19216\n",
      "id=37 word=「っ」 freq=16507\n",
      "id=41 word=「♡」 freq=16286\n",
      "*** Rare words ***\n",
      "id=31948 word=「翡」 freq=1\n",
      "id=31865 word=「殊」 freq=1\n",
      "id=31834 word=「毘」 freq=1\n",
      "id=31815 word=「俄」 freq=1\n",
      "id=31806 word=「滋」 freq=1\n",
      "id=31756 word=「些」 freq=1\n",
      "id=31744 word=「璧」 freq=1\n",
      "id=31728 word=「吃」 freq=1\n",
      "id=31725 word=「奨」 freq=1\n",
      "id=31710 word=「腺」 freq=1\n",
      "id=31693 word=「冴」 freq=1\n",
      "id=31684 word=「飽」 freq=1\n",
      "id=31667 word=「函」 freq=1\n",
      "id=31662 word=「⊖」 freq=1\n",
      "id=31644 word=「蓬」 freq=1\n",
      "id=31620 word=「秦」 freq=1\n",
      "id=31612 word=「淑」 freq=1\n",
      "id=31609 word=「你」 freq=1\n",
      "id=31593 word=「惹」 freq=1\n",
      "id=31558 word=「卿」 freq=1\n",
      "id=31414 word=「簿」 freq=1\n",
      "id=31377 word=「敢」 freq=1\n",
      "id=31368 word=「竿」 freq=1\n",
      "id=31230 word=「邸」 freq=1\n",
      "id=31215 word=「拠」 freq=1\n",
      "id=31190 word=「権はありません」 freq=1\n",
      "id=31180 word=「書籍」 freq=1\n",
      "id=31122 word=「震わせ」 freq=1\n",
      "id=31074 word=「エミール」 freq=1\n",
      "id=31036 word=「§」 freq=1\n"
     ]
    }
   ],
   "source": [
    "fre3_id, fre3_n, fre3_w = calc_freq(c3, vocab_path, num=30)"
   ]
  },
  {
   "cell_type": "code",
   "execution_count": null,
   "metadata": {},
   "outputs": [],
   "source": []
  }
 ],
 "metadata": {
  "kernelspec": {
   "display_name": "Python 3",
   "language": "python",
   "name": "python3"
  },
  "language_info": {
   "codemirror_mode": {
    "name": "ipython",
    "version": 3
   },
   "file_extension": ".py",
   "mimetype": "text/x-python",
   "name": "python",
   "nbconvert_exporter": "python",
   "pygments_lexer": "ipython3",
   "version": "3.5.5"
  }
 },
 "nbformat": 4,
 "nbformat_minor": 2
}
