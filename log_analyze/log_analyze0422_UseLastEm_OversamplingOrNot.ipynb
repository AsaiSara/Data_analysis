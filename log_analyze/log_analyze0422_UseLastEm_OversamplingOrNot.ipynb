{
 "cells": [
  {
   "cell_type": "markdown",
   "metadata": {},
   "source": [
    "# Consider whether is better between using Oversampling or not\n",
    "### how to compare them ... how reflected emotional label in references\n",
    "* using labels of last part in reference sentencdes \n",
    "* label: #NEU #ANG #SAD #HAP #CON \n"
   ]
  },
  {
   "cell_type": "code",
   "execution_count": 4,
   "metadata": {},
   "outputs": [],
   "source": [
    "from matplotlib import pyplot as plt\n",
    "import numpy as np\n",
    "import math"
   ]
  },
  {
   "cell_type": "code",
   "execution_count": 5,
   "metadata": {},
   "outputs": [],
   "source": [
    "def plot_loss(log_path, ylim=None, MAX=-1,y_max=None):\n",
    "    f = open(log_path, 'r')\n",
    "    log_line = f.readlines()\n",
    "    [print(log_line[i]) for i in range(23)]\n",
    "    \n",
    "    log_valid = [float(i.split(\" \")[3].strip('\\n')) for i in log_line if i.split(\" \")[0] == \"Valid\"]\n",
    "    log_train = [float(i.split(\" \")[4].strip('\\n')) for i in log_line if i.split(\" \")[0] == \"Train\"]\n",
    "    print(\"chance rate of loss : \", math.log(1/32000))\n",
    "    print(\"initial validation loss : \", log_valid[0])\n",
    "    #print(log_valid)\n",
    "    log_val = log_valid[1:MAX+1]\n",
    "    min_val = min(log_val)\n",
    "    min_tra = min(log_train)\n",
    "    [print(\"Minimize validation loss({}) : {} Epoch \".format(min_val, i+1)) \n",
    "           for i, l in enumerate(log_val) if l == min_val ]\n",
    "    [print(\"Minimize training loss({}) : {} Epoch \".format(min_tra, i+1)) \n",
    "           for i, l in enumerate(log_train) if l == min_tra ]\n",
    "    log_train = log_train[:MAX]\n",
    "    x = np.arange(len(log_val))\n",
    "    y1 = np.array(log_train)\n",
    "    y2 = np.array(log_val)\n",
    "    plt.figure()\n",
    "    plt.plot(x,y1)\n",
    "    plt.plot(x,y2)\n",
    "    plt.legend()\n",
    "    if ylim:\n",
    "        plt.ylim(ylim[0],ylim[1])\n",
    "    plt.grid()\n",
    "    plt.show"
   ]
  },
  {
   "cell_type": "markdown",
   "metadata": {},
   "source": [
    "# ☆ twitter \n",
    "## emotion embedding size : 64\n",
    "## twitter : 21 epoch"
   ]
  },
  {
   "cell_type": "code",
   "execution_count": 42,
   "metadata": {},
   "outputs": [],
   "source": [
    "log_path_em64tw =  \"../../emotion_dialogue_model/log/train20190407230240.log\""
   ]
  },
  {
   "cell_type": "code",
   "execution_count": 36,
   "metadata": {
    "scrolled": true
   },
   "outputs": [
    {
     "name": "stderr",
     "output_type": "stream",
     "text": [
      "No handles with labels found to put in legend.\n"
     ]
    },
    {
     "name": "stdout",
     "output_type": "stream",
     "text": [
      "Data directory: ../data/twitter_dial/splitted\n",
      "\n",
      "Vocaburary file: ../data/twitter_dial/vocab/spvocab_tw_label.model\n",
      "\n",
      "Model prefix: ./model/0407_64emoTw\n",
      "\n",
      "Use emotion: False\n",
      "\n",
      "Checkpoint path: None\n",
      "\n",
      "Pretrained: False\n",
      "\n",
      "Fix embedding: False\n",
      "\n",
      "UNK_id: 3\n",
      "\n",
      "dropout: 0.1\n",
      "\n",
      "emotion_size: 64\n",
      "\n",
      "hidden_size: 256\n",
      "\n",
      "max_epoch: 100\n",
      "\n",
      "decoder_learning_ratio: 1.0\n",
      "\n",
      "learning_rate: 0.0003\n",
      "\n",
      "batch_size: 64\n",
      "\n",
      "lr_decay: 0.5773502691896258\n",
      "\n",
      "max_gradient: 50.0\n",
      "\n",
      "decay_step: 120000\n",
      "\n",
      "EOS_id: 2\n",
      "\n",
      "teacher_forcing_ratio: 1.0\n",
      "\n",
      "l2_pooling: False\n",
      "\n",
      "SOS_id: 1\n",
      "\n",
      "num_layers: 2\n",
      "\n",
      "chance rate of loss :  -10.373491181781864\n",
      "initial validation loss :  10.3827\n",
      "Minimize validation loss(5.4493) : 21 Epoch \n",
      "Minimize training loss(4.9458) : 52 Epoch \n",
      "Minimize training loss(4.9458) : 64 Epoch \n"
     ]
    },
    {
     "data": {
      "image/png": "[encoded data removed]",
      "text/plain": [
       "<Figure size 432x288 with 1 Axes>"
      ]
     },
     "metadata": {},
     "output_type": "display_data"
    }
   ],
   "source": [
    "plot_loss(log_path_em64tw, ylim=[0,10],MAX=60)"
   ]
  },
  {
   "cell_type": "markdown",
   "metadata": {},
   "source": [
    "## → oversampling all domain(em_dial) :  14 epoch"
   ]
  },
  {
   "cell_type": "code",
   "execution_count": 46,
   "metadata": {},
   "outputs": [],
   "source": [
    "log_path_em64tw_overall = \"../../emotion_dialogue_model/log/train20190415215339.log\""
   ]
  },
  {
   "cell_type": "code",
   "execution_count": 47,
   "metadata": {
    "scrolled": true
   },
   "outputs": [
    {
     "name": "stderr",
     "output_type": "stream",
     "text": [
      "No handles with labels found to put in legend.\n"
     ]
    },
    {
     "name": "stdout",
     "output_type": "stream",
     "text": [
      "Data directory: ../data/em_dial/splitted/over_sample/all\n",
      "\n",
      "Vocaburary file: ../data/twitter_dial/vocab/spvocab_tw_label.model\n",
      "\n",
      "Model prefix: ./model/0415_64emoTw_overall\n",
      "\n",
      "Use emotion: True\n",
      "\n",
      "Checkpoint path: ./model/0407_64emoTw_21.mdl\n",
      "\n",
      "Pretrained: True\n",
      "\n",
      "Fix embedding: False\n",
      "\n",
      "decoder_learning_ratio: 1.0\n",
      "\n",
      "UNK_id: 3\n",
      "\n",
      "l2_pooling: False\n",
      "\n",
      "teacher_forcing_ratio: 1.0\n",
      "\n",
      "batch_size: 64\n",
      "\n",
      "hidden_size: 256\n",
      "\n",
      "lr_decay: 0.5773502691896258\n",
      "\n",
      "EOS_id: 2\n",
      "\n",
      "inf_last: False\n",
      "\n",
      "emotion_size: 64\n",
      "\n",
      "num_layers: 2\n",
      "\n",
      "SOS_id: 1\n",
      "\n",
      "max_gradient: 50.0\n",
      "\n",
      "decay_step: 12500\n",
      "\n",
      "learning_rate: 3e-05\n",
      "\n",
      "PAD_id: 0\n",
      "\n",
      "chance rate of loss :  -10.373491181781864\n",
      "initial validation loss :  7.6136\n",
      "Minimize validation loss(5.5844) : 14 Epoch \n",
      "Minimize training loss(2.6638) : 58 Epoch \n"
     ]
    },
    {
     "data": {
      "image/png": "[encoded data removed]",
      "text/plain": [
       "<Figure size 432x288 with 1 Axes>"
      ]
     },
     "metadata": {},
     "output_type": "display_data"
    }
   ],
   "source": [
    "plot_loss(log_path_em64tw_overall,ylim=[0,10], MAX=60)"
   ]
  },
  {
   "cell_type": "markdown",
   "metadata": {},
   "source": [
    "# ☆ twitter em_word of last part\n",
    "##   ( emotion embedding size : 64 )\n",
    "##   ( twitter 21 epoch)\n",
    "## oversampling"
   ]
  },
  {
   "cell_type": "code",
   "execution_count": 55,
   "metadata": {},
   "outputs": [],
   "source": [
    "log_path_64emTw21_overallEm = \"../../emotion_dialogue_model/log/train20190422112408.log\""
   ]
  },
  {
   "cell_type": "code",
   "execution_count": 57,
   "metadata": {
    "scrolled": true
   },
   "outputs": [
    {
     "name": "stdout",
     "output_type": "stream",
     "text": [
      "Data directory: ../data/em_dial/splitted/lastEm/over_sample/all\n",
      "\n",
      "Vocaburary file: ../data/twitter_dial/vocab/spvocab_tw_label.model\n",
      "\n",
      "Model prefix: ./model/0422_64emoTw21_overallEm\n",
      "\n",
      "Use emotion: True\n",
      "\n",
      "Checkpoint path: ./model/0407_64emoTw_21.mdl\n",
      "\n",
      "Pretrained: True\n",
      "\n",
      "Fix embedding: False\n",
      "\n",
      "teacher_forcing_ratio: 1.0\n",
      "\n",
      "MAX_UTTR_LEN: 50\n",
      "\n",
      "max_gradient: 50.0\n",
      "\n",
      "tfd_lambda: 0.4\n",
      "\n",
      "SOS_id: 1\n",
      "\n",
      "hidden_size: 256\n",
      "\n",
      "num_layers: 2\n",
      "\n",
      "PAD_id: 0\n",
      "\n",
      "lr_decay: 0.5773502691896258\n",
      "\n",
      "EOS_id: 2\n",
      "\n",
      "l2_pooling: False\n",
      "\n",
      "UNK_id: 3\n",
      "\n",
      "emotion_size: 64\n",
      "\n",
      "dropout: 0.1\n",
      "\n",
      "batch_size: 64\n",
      "\n",
      "learning_rate: 3e-05\n",
      "\n",
      "chance rate of loss :  -10.373491181781864\n",
      "initial validation loss :  11.3963\n",
      "Minimize validation loss(5.1173) : 27 Epoch \n",
      "Minimize training loss(1.9274) : 94 Epoch \n"
     ]
    },
    {
     "name": "stderr",
     "output_type": "stream",
     "text": [
      "No handles with labels found to put in legend.\n"
     ]
    },
    {
     "data": {
      "image/png": "[encoded data removed]",
      "text/plain": [
       "<Figure size 432x288 with 1 Axes>"
      ]
     },
     "metadata": {},
     "output_type": "display_data"
    }
   ],
   "source": [
    "plot_loss(log_path_64emTw21_overallEm,ylim=[0,10], MAX=60)"
   ]
  },
  {
   "cell_type": "markdown",
   "metadata": {},
   "source": [
    "## not oversampling"
   ]
  },
  {
   "cell_type": "code",
   "execution_count": 6,
   "metadata": {},
   "outputs": [],
   "source": [
    "log_path_64emTw21_allEm = \"../../emotion_dialogue_model/log/train20190422160108.log\""
   ]
  },
  {
   "cell_type": "code",
   "execution_count": 7,
   "metadata": {
    "scrolled": true
   },
   "outputs": [
    {
     "name": "stderr",
     "output_type": "stream",
     "text": [
      "No handles with labels found to put in legend.\n"
     ]
    },
    {
     "name": "stdout",
     "output_type": "stream",
     "text": [
      "Data directory: ../data/em_dial/splitted/lastEm/all\n",
      "\n",
      "Vocaburary file: ../data/twitter_dial/vocab/spvocab_tw_label.model\n",
      "\n",
      "Model prefix: ./model/0422_64emoTw21_allEm\n",
      "\n",
      "Use emotion: True\n",
      "\n",
      "Checkpoint path: ./model/0407_64emoTw_21.mdl\n",
      "\n",
      "Pretrained: True\n",
      "\n",
      "Fix embedding: False\n",
      "\n",
      "l2_pooling: False\n",
      "\n",
      "max_epoch: 200\n",
      "\n",
      "hidden_size: 256\n",
      "\n",
      "max_gradient: 50.0\n",
      "\n",
      "teacher_forcing_ratio: 1.0\n",
      "\n",
      "inf_last: False\n",
      "\n",
      "emotion_size: 64\n",
      "\n",
      "learning_rate: 3e-05\n",
      "\n",
      "MAX_UTTR_LEN: 50\n",
      "\n",
      "UNK_id: 3\n",
      "\n",
      "batch_size: 64\n",
      "\n",
      "EOS_id: 2\n",
      "\n",
      "decoder_learning_ratio: 1.0\n",
      "\n",
      "SOS_id: 1\n",
      "\n",
      "PAD_id: 0\n",
      "\n",
      "tfd_lambda: 0.4\n",
      "\n",
      "chance rate of loss :  -10.373491181781864\n",
      "initial validation loss :  10.7792\n",
      "Minimize validation loss(4.8264) : 32 Epoch \n",
      "Minimize training loss(2.0977) : 108 Epoch \n"
     ]
    },
    {
     "data": {
      "image/png": "[encoded data removed]",
      "text/plain": [
       "<Figure size 432x288 with 1 Axes>"
      ]
     },
     "metadata": {},
     "output_type": "display_data"
    }
   ],
   "source": [
    "plot_loss(log_path_64emTw21_allEm,ylim=[0,10], MAX=60)"
   ]
  }
 ],
 "metadata": {
  "kernelspec": {
   "display_name": "Python 3",
   "language": "python",
   "name": "python3"
  },
  "language_info": {
   "codemirror_mode": {
    "name": "ipython",
    "version": 3
   },
   "file_extension": ".py",
   "mimetype": "text/x-python",
   "name": "python",
   "nbconvert_exporter": "python",
   "pygments_lexer": "ipython3",
   "version": "3.5.5"
  }
 },
 "nbformat": 4,
 "nbformat_minor": 2
}
