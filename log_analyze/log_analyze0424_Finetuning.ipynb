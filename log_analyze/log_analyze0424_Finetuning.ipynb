{
 "cells": [
  {
   "cell_type": "markdown",
   "metadata": {},
   "source": [
    "# ☆Fine-tuning\n",
    "\n",
    "### Pre-processing of emo_dial : Oversampling model\n",
    "* how reflected last_emotion_word in reference is high \n",
    "\n",
    "### emotion embedding size : 64 \n",
    "* Diversity, dist_1 and BLUE is comparably high\n",
    "\n",
    "### Pre-training epoch (twitter dataset) : 21 (5.4493)\n",
    "* Loss is lowest\n",
    "\n",
    "\n",
    "\n",
    "# ☆Comparing below two points\n",
    "### ☆Pre-training epoch (em_dial of all domain) \n",
    "\n",
    "\n",
    "## 1. not using emotion_word in last part: 14 (5.5844)\n",
    "* Loss is lowest\n",
    "####  Fine-tuning model : cleaning:  exercies:  lunch: game: sleep: \n",
    "\n",
    "## 2. using emotion_word in last part: 27 (5.1173)\n",
    "* Loss is lowest \n",
    "####  Fine-tuning model : cleaning:  exercies:  lunch: game: sleep: \n",
    "\n"
   ]
  },
  {
   "cell_type": "code",
   "execution_count": 4,
   "metadata": {},
   "outputs": [],
   "source": [
    "from matplotlib import pyplot as plt\n",
    "import numpy as np\n",
    "import math"
   ]
  },
  {
   "cell_type": "code",
   "execution_count": 5,
   "metadata": {},
   "outputs": [],
   "source": [
    "def plot_loss(log_path, ylim=None, MAX=-1,y_max=None):\n",
    "    f = open(log_path, 'r')\n",
    "    log_line = f.readlines()\n",
    "    [print(log_line[i]) for i in range(23)]\n",
    "    \n",
    "    log_valid = [float(i.split(\" \")[3].strip('\\n')) for i in log_line if i.split(\" \")[0] == \"Valid\"]\n",
    "    log_train = [float(i.split(\" \")[4].strip('\\n')) for i in log_line if i.split(\" \")[0] == \"Train\"]\n",
    "    print(\"chance rate of loss : \", math.log(1/32000))\n",
    "    print(\"initial validation loss : \", log_valid[0])\n",
    "    #print(log_valid)\n",
    "    log_val = log_valid[1:MAX+1]\n",
    "    min_val = min(log_val)\n",
    "    min_tra = min(log_train)\n",
    "    [print(\"Minimize validation loss({}) : {} Epoch \".format(min_val, i+1)) \n",
    "           for i, l in enumerate(log_val) if l == min_val ]\n",
    "    [print(\"Minimize training loss({}) : {} Epoch \".format(min_tra, i+1)) \n",
    "           for i, l in enumerate(log_train) if l == min_tra ]\n",
    "    log_train = log_train[:MAX]\n",
    "    x = np.arange(len(log_val))\n",
    "    y1 = np.array(log_train)\n",
    "    y2 = np.array(log_val)\n",
    "    plt.figure()\n",
    "    plt.plot(x,y1)\n",
    "    plt.plot(x,y2)\n",
    "    plt.legend()\n",
    "    if ylim:\n",
    "        plt.ylim(ylim[0],ylim[1])\n",
    "    plt.grid()\n",
    "    plt.show"
   ]
  },
  {
   "cell_type": "markdown",
   "metadata": {},
   "source": [
    "## emotion embedding size : 64"
   ]
  },
  {
   "cell_type": "code",
   "execution_count": 42,
   "metadata": {},
   "outputs": [],
   "source": [
    "log_path_em64tw =  \"../../emotion_dialogue_model/log/train20190407230240.log\""
   ]
  },
  {
   "cell_type": "code",
   "execution_count": 36,
   "metadata": {
    "scrolled": true
   },
   "outputs": [
    {
     "name": "stderr",
     "output_type": "stream",
     "text": [
      "No handles with labels found to put in legend.\n"
     ]
    },
    {
     "name": "stdout",
     "output_type": "stream",
     "text": [
      "Data directory: ../data/twitter_dial/splitted\n",
      "\n",
      "Vocaburary file: ../data/twitter_dial/vocab/spvocab_tw_label.model\n",
      "\n",
      "Model prefix: ./model/0407_64emoTw\n",
      "\n",
      "Use emotion: False\n",
      "\n",
      "Checkpoint path: None\n",
      "\n",
      "Pretrained: False\n",
      "\n",
      "Fix embedding: False\n",
      "\n",
      "UNK_id: 3\n",
      "\n",
      "dropout: 0.1\n",
      "\n",
      "emotion_size: 64\n",
      "\n",
      "hidden_size: 256\n",
      "\n",
      "max_epoch: 100\n",
      "\n",
      "decoder_learning_ratio: 1.0\n",
      "\n",
      "learning_rate: 0.0003\n",
      "\n",
      "batch_size: 64\n",
      "\n",
      "lr_decay: 0.5773502691896258\n",
      "\n",
      "max_gradient: 50.0\n",
      "\n",
      "decay_step: 120000\n",
      "\n",
      "EOS_id: 2\n",
      "\n",
      "teacher_forcing_ratio: 1.0\n",
      "\n",
      "l2_pooling: False\n",
      "\n",
      "SOS_id: 1\n",
      "\n",
      "num_layers: 2\n",
      "\n",
      "chance rate of loss :  -10.373491181781864\n",
      "initial validation loss :  10.3827\n",
      "Minimize validation loss(5.4493) : 21 Epoch \n",
      "Minimize training loss(4.9458) : 52 Epoch \n",
      "Minimize training loss(4.9458) : 64 Epoch \n"
     ]
    },
    {
     "data": {
      "image/png": "[encoded data removed]",
      "text/plain": [
       "<Figure size 432x288 with 1 Axes>"
      ]
     },
     "metadata": {},
     "output_type": "display_data"
    }
   ],
   "source": [
    "plot_loss(log_path_em64tw, ylim=[0,10],MAX=60)"
   ]
  },
  {
   "cell_type": "markdown",
   "metadata": {},
   "source": [
    "# ☆ twitter  -> over-sampling all"
   ]
  },
  {
   "cell_type": "markdown",
   "metadata": {},
   "source": [
    "## emotion embedding size : 64"
   ]
  },
  {
   "cell_type": "code",
   "execution_count": 46,
   "metadata": {},
   "outputs": [],
   "source": [
    "log_path_em64tw_overall = \"../../emotion_dialogue_model/log/train20190415215339.log\""
   ]
  },
  {
   "cell_type": "code",
   "execution_count": 47,
   "metadata": {
    "scrolled": true
   },
   "outputs": [
    {
     "name": "stderr",
     "output_type": "stream",
     "text": [
      "No handles with labels found to put in legend.\n"
     ]
    },
    {
     "name": "stdout",
     "output_type": "stream",
     "text": [
      "Data directory: ../data/em_dial/splitted/over_sample/all\n",
      "\n",
      "Vocaburary file: ../data/twitter_dial/vocab/spvocab_tw_label.model\n",
      "\n",
      "Model prefix: ./model/0415_64emoTw_overall\n",
      "\n",
      "Use emotion: True\n",
      "\n",
      "Checkpoint path: ./model/0407_64emoTw_21.mdl\n",
      "\n",
      "Pretrained: True\n",
      "\n",
      "Fix embedding: False\n",
      "\n",
      "decoder_learning_ratio: 1.0\n",
      "\n",
      "UNK_id: 3\n",
      "\n",
      "l2_pooling: False\n",
      "\n",
      "teacher_forcing_ratio: 1.0\n",
      "\n",
      "batch_size: 64\n",
      "\n",
      "hidden_size: 256\n",
      "\n",
      "lr_decay: 0.5773502691896258\n",
      "\n",
      "EOS_id: 2\n",
      "\n",
      "inf_last: False\n",
      "\n",
      "emotion_size: 64\n",
      "\n",
      "num_layers: 2\n",
      "\n",
      "SOS_id: 1\n",
      "\n",
      "max_gradient: 50.0\n",
      "\n",
      "decay_step: 12500\n",
      "\n",
      "learning_rate: 3e-05\n",
      "\n",
      "PAD_id: 0\n",
      "\n",
      "chance rate of loss :  -10.373491181781864\n",
      "initial validation loss :  7.6136\n",
      "Minimize validation loss(5.5844) : 14 Epoch \n",
      "Minimize training loss(2.6638) : 58 Epoch \n"
     ]
    },
    {
     "data": {
      "image/png": "[encoded data removed]",
      "text/plain": [
       "<Figure size 432x288 with 1 Axes>"
      ]
     },
     "metadata": {},
     "output_type": "display_data"
    }
   ],
   "source": [
    "plot_loss(log_path_em64tw_overall,ylim=[0,10], MAX=60)"
   ]
  },
  {
   "cell_type": "markdown",
   "metadata": {},
   "source": [
    "# ☆ twitter  -> over-sampling all -> over-sampling one domaing"
   ]
  },
  {
   "cell_type": "markdown",
   "metadata": {},
   "source": [
    "## cleaning"
   ]
  },
  {
   "cell_type": "code",
   "execution_count": 10,
   "metadata": {},
   "outputs": [],
   "source": [
    "log_path_em64tw_overall_overcleaning = \"../../emotion_dialogue_model/log/train20190424202734.log\""
   ]
  },
  {
   "cell_type": "code",
   "execution_count": 8,
   "metadata": {
    "scrolled": true
   },
   "outputs": [
    {
     "name": "stderr",
     "output_type": "stream",
     "text": [
      "No handles with labels found to put in legend.\n"
     ]
    },
    {
     "name": "stdout",
     "output_type": "stream",
     "text": [
      "Data directory: ../data/em_dial/splitted/over_sample/cleaning\n",
      "\n",
      "Vocaburary file: ../data/twitter_dial/vocab/spvocab_tw_label.model\n",
      "\n",
      "Model prefix: ./model/0424_64emoTw21_overall14_cleaning\n",
      "\n",
      "Use emotion: True\n",
      "\n",
      "Checkpoint path: ./model/0415_64emoTw_overall_14.mdl\n",
      "\n",
      "Pretrained: True\n",
      "\n",
      "Fix embedding: False\n",
      "\n",
      "MAX_UTTR_LEN: 50\n",
      "\n",
      "teacher_forcing_ratio: 1.0\n",
      "\n",
      "learning_rate: 3e-05\n",
      "\n",
      "emotion_size: 64\n",
      "\n",
      "PAD_id: 0\n",
      "\n",
      "dropout: 0.1\n",
      "\n",
      "max_epoch: 200\n",
      "\n",
      "EOS_id: 2\n",
      "\n",
      "decoder_learning_ratio: 1.0\n",
      "\n",
      "hidden_size: 256\n",
      "\n",
      "tfd_lambda: 0.4\n",
      "\n",
      "decay_step: 2500\n",
      "\n",
      "UNK_id: 3\n",
      "\n",
      "max_gradient: 50.0\n",
      "\n",
      "l2_pooling: False\n",
      "\n",
      "lr_decay: 0.5773502691896258\n",
      "\n",
      "chance rate of loss :  -10.373491181781864\n",
      "initial validation loss :  6.2619\n",
      "Minimize validation loss(6.1892) : 5 Epoch \n",
      "Minimize training loss(1.1558) : 198 Epoch \n"
     ]
    },
    {
     "data": {
      "image/png": "[encoded data removed]",
      "text/plain": [
       "<Figure size 432x288 with 1 Axes>"
      ]
     },
     "metadata": {},
     "output_type": "display_data"
    }
   ],
   "source": [
    "plot_loss(log_path_em64tw_overall_overcleaning,ylim=[0,10], MAX=60)"
   ]
  },
  {
   "cell_type": "markdown",
   "metadata": {},
   "source": [
    "## exercise"
   ]
  },
  {
   "cell_type": "code",
   "execution_count": 14,
   "metadata": {},
   "outputs": [],
   "source": [
    "log_path_em64tw_overall_overexercise = \"../../emotion_dialogue_model/log/train20190425103135.log\""
   ]
  },
  {
   "cell_type": "code",
   "execution_count": 12,
   "metadata": {
    "scrolled": true
   },
   "outputs": [
    {
     "name": "stderr",
     "output_type": "stream",
     "text": [
      "No handles with labels found to put in legend.\n"
     ]
    },
    {
     "name": "stdout",
     "output_type": "stream",
     "text": [
      "Data directory: ../data/em_dial/splitted/over_sample/exercise\n",
      "\n",
      "Vocaburary file: ../data/twitter_dial/vocab/spvocab_tw_label.model\n",
      "\n",
      "Model prefix: ./model/0424_64emoTw21_overall14_exercise\n",
      "\n",
      "Use emotion: True\n",
      "\n",
      "Checkpoint path: ./model/0415_64emoTw_overall_14.mdl\n",
      "\n",
      "Pretrained: True\n",
      "\n",
      "Fix embedding: False\n",
      "\n",
      "MAX_UTTR_LEN: 50\n",
      "\n",
      "decoder_learning_ratio: 1.0\n",
      "\n",
      "UNK_id: 3\n",
      "\n",
      "learning_rate: 3e-05\n",
      "\n",
      "l2_pooling: False\n",
      "\n",
      "num_layers: 2\n",
      "\n",
      "dropout: 0.1\n",
      "\n",
      "hidden_size: 256\n",
      "\n",
      "max_gradient: 50.0\n",
      "\n",
      "max_epoch: 200\n",
      "\n",
      "lr_decay: 0.5773502691896258\n",
      "\n",
      "EOS_id: 2\n",
      "\n",
      "inf_last: False\n",
      "\n",
      "teacher_forcing_ratio: 1.0\n",
      "\n",
      "batch_size: 64\n",
      "\n",
      "SOS_id: 1\n",
      "\n",
      "chance rate of loss :  -10.373491181781864\n",
      "initial validation loss :  5.7259\n",
      "Minimize validation loss(5.6867) : 4 Epoch \n",
      "Minimize training loss(2.9162) : 31 Epoch \n"
     ]
    },
    {
     "data": {
      "image/png": "[encoded data removed]",
      "text/plain": [
       "<Figure size 432x288 with 1 Axes>"
      ]
     },
     "metadata": {},
     "output_type": "display_data"
    }
   ],
   "source": [
    "plot_loss(log_path_em64tw_overall_overexercise,ylim=[0,10], MAX=60)"
   ]
  },
  {
   "cell_type": "markdown",
   "metadata": {},
   "source": [
    "## lunch"
   ]
  },
  {
   "cell_type": "code",
   "execution_count": 15,
   "metadata": {},
   "outputs": [],
   "source": [
    "log_path_em64tw_overall_overlunch = \"../../emotion_dialogue_model/log/train20190425103346.log\""
   ]
  },
  {
   "cell_type": "code",
   "execution_count": 16,
   "metadata": {
    "scrolled": true
   },
   "outputs": [
    {
     "name": "stderr",
     "output_type": "stream",
     "text": [
      "No handles with labels found to put in legend.\n"
     ]
    },
    {
     "name": "stdout",
     "output_type": "stream",
     "text": [
      "Data directory: ../data/em_dial/splitted/over_sample/lunch\n",
      "\n",
      "Vocaburary file: ../data/twitter_dial/vocab/spvocab_tw_label.model\n",
      "\n",
      "Model prefix: ./model/0424_64emoTw21_overall14_lunch\n",
      "\n",
      "Use emotion: True\n",
      "\n",
      "Checkpoint path: ./model/0415_64emoTw_overall_14.mdl\n",
      "\n",
      "Pretrained: True\n",
      "\n",
      "Fix embedding: False\n",
      "\n",
      "batch_size: 64\n",
      "\n",
      "l2_pooling: False\n",
      "\n",
      "teacher_forcing_ratio: 1.0\n",
      "\n",
      "EOS_id: 2\n",
      "\n",
      "inf_last: False\n",
      "\n",
      "PAD_id: 0\n",
      "\n",
      "hidden_size: 256\n",
      "\n",
      "learning_rate: 3e-05\n",
      "\n",
      "tfd_lambda: 0.4\n",
      "\n",
      "max_gradient: 50.0\n",
      "\n",
      "emotion_size: 64\n",
      "\n",
      "SOS_id: 1\n",
      "\n",
      "dropout: 0.1\n",
      "\n",
      "UNK_id: 3\n",
      "\n",
      "decoder_learning_ratio: 1.0\n",
      "\n",
      "MAX_UTTR_LEN: 50\n",
      "\n",
      "chance rate of loss :  -10.373491181781864\n",
      "initial validation loss :  5.9859\n",
      "Minimize validation loss(5.886) : 8 Epoch \n",
      "Minimize training loss(2.4388) : 51 Epoch \n"
     ]
    },
    {
     "data": {
      "image/png": "[encoded data removed]",
      "text/plain": [
       "<Figure size 432x288 with 1 Axes>"
      ]
     },
     "metadata": {},
     "output_type": "display_data"
    }
   ],
   "source": [
    "plot_loss(log_path_em64tw_overall_overlunch,ylim=[0,10], MAX=60)"
   ]
  },
  {
   "cell_type": "markdown",
   "metadata": {},
   "source": [
    "## game"
   ]
  },
  {
   "cell_type": "code",
   "execution_count": 20,
   "metadata": {},
   "outputs": [],
   "source": [
    "log_path_em64tw_overall_overgame = \"../../emotion_dialogue_model/log/train20190425103702.log\""
   ]
  },
  {
   "cell_type": "code",
   "execution_count": 18,
   "metadata": {
    "scrolled": true
   },
   "outputs": [
    {
     "name": "stderr",
     "output_type": "stream",
     "text": [
      "No handles with labels found to put in legend.\n"
     ]
    },
    {
     "name": "stdout",
     "output_type": "stream",
     "text": [
      "Data directory: ../data/em_dial/splitted/over_sample/game\n",
      "\n",
      "Vocaburary file: ../data/twitter_dial/vocab/spvocab_tw_label.model\n",
      "\n",
      "Model prefix: ./model/0424_64emoTw21_overall14_game\n",
      "\n",
      "Use emotion: True\n",
      "\n",
      "Checkpoint path: ./model/0415_64emoTw_overall_14.mdl\n",
      "\n",
      "Pretrained: True\n",
      "\n",
      "Fix embedding: False\n",
      "\n",
      "decay_step: 2500\n",
      "\n",
      "hidden_size: 256\n",
      "\n",
      "MAX_UTTR_LEN: 50\n",
      "\n",
      "decoder_learning_ratio: 1.0\n",
      "\n",
      "SOS_id: 1\n",
      "\n",
      "teacher_forcing_ratio: 1.0\n",
      "\n",
      "max_gradient: 50.0\n",
      "\n",
      "inf_last: False\n",
      "\n",
      "EOS_id: 2\n",
      "\n",
      "emotion_size: 64\n",
      "\n",
      "UNK_id: 3\n",
      "\n",
      "batch_size: 64\n",
      "\n",
      "lr_decay: 0.5773502691896258\n",
      "\n",
      "tfd_lambda: 0.4\n",
      "\n",
      "learning_rate: 3e-05\n",
      "\n",
      "PAD_id: 0\n",
      "\n",
      "chance rate of loss :  -10.373491181781864\n",
      "initial validation loss :  5.6518\n",
      "Minimize validation loss(5.5945) : 5 Epoch \n",
      "Minimize training loss(2.8565) : 31 Epoch \n"
     ]
    },
    {
     "data": {
      "image/png": "[encoded data removed]",
      "text/plain": [
       "<Figure size 432x288 with 1 Axes>"
      ]
     },
     "metadata": {},
     "output_type": "display_data"
    }
   ],
   "source": [
    "plot_loss(log_path_em64tw_overall_overgame,ylim=[0,10], MAX=60)"
   ]
  },
  {
   "cell_type": "markdown",
   "metadata": {},
   "source": [
    "## sleep"
   ]
  },
  {
   "cell_type": "code",
   "execution_count": 24,
   "metadata": {},
   "outputs": [],
   "source": [
    "log_path_em64tw_overall_oversleep = \"../../emotion_dialogue_model/log/train20190425103557.log\""
   ]
  },
  {
   "cell_type": "code",
   "execution_count": 25,
   "metadata": {
    "scrolled": true
   },
   "outputs": [
    {
     "name": "stderr",
     "output_type": "stream",
     "text": [
      "No handles with labels found to put in legend.\n"
     ]
    },
    {
     "name": "stdout",
     "output_type": "stream",
     "text": [
      "Data directory: ../data/em_dial/splitted/over_sample/sleep\n",
      "\n",
      "Vocaburary file: ../data/twitter_dial/vocab/spvocab_tw_label.model\n",
      "\n",
      "Model prefix: ./model/0424_64emoTw21_overall14_sleep\n",
      "\n",
      "Use emotion: True\n",
      "\n",
      "Checkpoint path: ./model/0415_64emoTw_overall_14.mdl\n",
      "\n",
      "Pretrained: True\n",
      "\n",
      "Fix embedding: False\n",
      "\n",
      "MAX_UTTR_LEN: 50\n",
      "\n",
      "SOS_id: 1\n",
      "\n",
      "l2_pooling: False\n",
      "\n",
      "max_gradient: 50.0\n",
      "\n",
      "decay_step: 2500\n",
      "\n",
      "decoder_learning_ratio: 1.0\n",
      "\n",
      "learning_rate: 3e-05\n",
      "\n",
      "PAD_id: 0\n",
      "\n",
      "dropout: 0.1\n",
      "\n",
      "max_epoch: 200\n",
      "\n",
      "hidden_size: 256\n",
      "\n",
      "num_layers: 2\n",
      "\n",
      "emotion_size: 64\n",
      "\n",
      "batch_size: 64\n",
      "\n",
      "UNK_id: 3\n",
      "\n",
      "teacher_forcing_ratio: 1.0\n",
      "\n",
      "chance rate of loss :  -10.373491181781864\n",
      "initial validation loss :  6.0723\n",
      "Minimize validation loss(6.0293) : 3 Epoch \n",
      "Minimize training loss(2.0235) : 53 Epoch \n"
     ]
    },
    {
     "data": {
      "image/png": "[encoded data removed]",
      "text/plain": [
       "<Figure size 432x288 with 1 Axes>"
      ]
     },
     "metadata": {},
     "output_type": "display_data"
    }
   ],
   "source": [
    "plot_loss(log_path_em64tw_overall_oversleep,ylim=[0,10], MAX=60)"
   ]
  },
  {
   "cell_type": "markdown",
   "metadata": {},
   "source": [
    "# Using Emotion_word of last of references in training\n",
    "### ☆ twitter  -> over-sampling all -> over-sampling one domaing"
   ]
  },
  {
   "cell_type": "markdown",
   "metadata": {},
   "source": [
    "## cleaning"
   ]
  },
  {
   "cell_type": "code",
   "execution_count": 28,
   "metadata": {},
   "outputs": [],
   "source": [
    "log_path_em64tw_overallLastEm_overcleaning = \"../../emotion_dialogue_model/log/train20190425181258.log\""
   ]
  },
  {
   "cell_type": "code",
   "execution_count": 29,
   "metadata": {
    "scrolled": true
   },
   "outputs": [
    {
     "name": "stderr",
     "output_type": "stream",
     "text": [
      "No handles with labels found to put in legend.\n"
     ]
    },
    {
     "name": "stdout",
     "output_type": "stream",
     "text": [
      "Data directory: ../data/em_dial/splitted/lastEm/over_sample/cleaning\n",
      "\n",
      "Vocaburary file: ../data/twitter_dial/vocab/spvocab_tw_label.model\n",
      "\n",
      "Model prefix: ./model/0422_64emoTw21_overallEm27_cleaning\n",
      "\n",
      "Use emotion: True\n",
      "\n",
      "Checkpoint path: ./model/0422_64emoTw21_overallEm_27.mdl\n",
      "\n",
      "Pretrained: True\n",
      "\n",
      "Fix embedding: False\n",
      "\n",
      "decoder_learning_ratio: 1.0\n",
      "\n",
      "hidden_size: 256\n",
      "\n",
      "dropout: 0.1\n",
      "\n",
      "SOS_id: 1\n",
      "\n",
      "EOS_id: 2\n",
      "\n",
      "max_epoch: 200\n",
      "\n",
      "emotion_size: 64\n",
      "\n",
      "inf_last: False\n",
      "\n",
      "PAD_id: 0\n",
      "\n",
      "decay_step: 2500\n",
      "\n",
      "teacher_forcing_ratio: 1.0\n",
      "\n",
      "num_layers: 2\n",
      "\n",
      "UNK_id: 3\n",
      "\n",
      "learning_rate: 3e-05\n",
      "\n",
      "max_gradient: 50.0\n",
      "\n",
      "l2_pooling: False\n",
      "\n",
      "chance rate of loss :  -10.373491181781864\n",
      "initial validation loss :  5.3721\n",
      "Minimize validation loss(5.3199) : 5 Epoch \n",
      "Minimize training loss(1.6014) : 63 Epoch \n"
     ]
    },
    {
     "data": {
      "image/png": "[encoded data removed]",
      "text/plain": [
       "<Figure size 432x288 with 1 Axes>"
      ]
     },
     "metadata": {},
     "output_type": "display_data"
    }
   ],
   "source": [
    "plot_loss(log_path_em64tw_overallLastEm_overcleaning,ylim=[0,10], MAX=30)"
   ]
  },
  {
   "cell_type": "markdown",
   "metadata": {},
   "source": [
    "## exercise"
   ]
  },
  {
   "cell_type": "code",
   "execution_count": 45,
   "metadata": {},
   "outputs": [],
   "source": [
    "log_path_em64tw_overallLastEm_overexercise = \"../../emotion_dialogue_model/log/train20190425221716.log\""
   ]
  },
  {
   "cell_type": "code",
   "execution_count": 46,
   "metadata": {
    "scrolled": true
   },
   "outputs": [
    {
     "name": "stderr",
     "output_type": "stream",
     "text": [
      "No handles with labels found to put in legend.\n"
     ]
    },
    {
     "name": "stdout",
     "output_type": "stream",
     "text": [
      "Data directory: ../data/em_dial/splitted/lastEm/over_sample/exercise\n",
      "\n",
      "Vocaburary file: ../data/twitter_dial/vocab/spvocab_tw_label.model\n",
      "\n",
      "Model prefix: ./model/0422_64emoTw21_overallEm27_exercise\n",
      "\n",
      "Use emotion: True\n",
      "\n",
      "Checkpoint path: ./model/0422_64emoTw21_overallEm_27.mdl\n",
      "\n",
      "Pretrained: True\n",
      "\n",
      "Fix embedding: False\n",
      "\n",
      "hidden_size: 256\n",
      "\n",
      "decay_step: 2500\n",
      "\n",
      "EOS_id: 2\n",
      "\n",
      "lr_decay: 0.5773502691896258\n",
      "\n",
      "decoder_learning_ratio: 1.0\n",
      "\n",
      "batch_size: 64\n",
      "\n",
      "SOS_id: 1\n",
      "\n",
      "emotion_size: 64\n",
      "\n",
      "learning_rate: 3e-05\n",
      "\n",
      "UNK_id: 3\n",
      "\n",
      "PAD_id: 0\n",
      "\n",
      "l2_pooling: False\n",
      "\n",
      "max_gradient: 50.0\n",
      "\n",
      "num_layers: 2\n",
      "\n",
      "dropout: 0.1\n",
      "\n",
      "teacher_forcing_ratio: 1.0\n",
      "\n",
      "chance rate of loss :  -10.373491181781864\n",
      "initial validation loss :  4.9706\n",
      "Minimize validation loss(4.9198) : 7 Epoch \n",
      "Minimize training loss(2.5968) : 21 Epoch \n"
     ]
    },
    {
     "data": {
      "image/png": "[encoded data removed]",
      "text/plain": [
       "<Figure size 432x288 with 1 Axes>"
      ]
     },
     "metadata": {},
     "output_type": "display_data"
    }
   ],
   "source": [
    "plot_loss(log_path_em64tw_overallLastEm_overexercise,ylim=[0,10], MAX=30)"
   ]
  },
  {
   "cell_type": "markdown",
   "metadata": {},
   "source": [
    "## lunch"
   ]
  },
  {
   "cell_type": "code",
   "execution_count": 34,
   "metadata": {},
   "outputs": [],
   "source": [
    "log_path_em64tw_overallLastEm_overlunch = \"../../emotion_dialogue_model/log/train20190425181428.log\""
   ]
  },
  {
   "cell_type": "code",
   "execution_count": 35,
   "metadata": {
    "scrolled": true
   },
   "outputs": [
    {
     "name": "stderr",
     "output_type": "stream",
     "text": [
      "No handles with labels found to put in legend.\n"
     ]
    },
    {
     "name": "stdout",
     "output_type": "stream",
     "text": [
      "Data directory: ../data/em_dial/splitted/lastEm/over_sample/lunch\n",
      "\n",
      "Vocaburary file: ../data/twitter_dial/vocab/spvocab_tw_label.model\n",
      "\n",
      "Model prefix: ./model/0422_64emoTw21_overallEm27_lunch\n",
      "\n",
      "Use emotion: True\n",
      "\n",
      "Checkpoint path: ./model/0422_64emoTw21_overallEm_27.mdl\n",
      "\n",
      "Pretrained: True\n",
      "\n",
      "Fix embedding: False\n",
      "\n",
      "UNK_id: 3\n",
      "\n",
      "decoder_learning_ratio: 1.0\n",
      "\n",
      "SOS_id: 1\n",
      "\n",
      "PAD_id: 0\n",
      "\n",
      "batch_size: 64\n",
      "\n",
      "teacher_forcing_ratio: 1.0\n",
      "\n",
      "lr_decay: 0.5773502691896258\n",
      "\n",
      "hidden_size: 256\n",
      "\n",
      "EOS_id: 2\n",
      "\n",
      "tfd_lambda: 0.4\n",
      "\n",
      "dropout: 0.1\n",
      "\n",
      "decay_step: 2500\n",
      "\n",
      "max_gradient: 50.0\n",
      "\n",
      "num_layers: 2\n",
      "\n",
      "emotion_size: 64\n",
      "\n",
      "learning_rate: 3e-05\n",
      "\n",
      "chance rate of loss :  -10.373491181781864\n",
      "initial validation loss :  5.0626\n",
      "Minimize validation loss(4.9612) : 11 Epoch \n",
      "Minimize training loss(1.1601) : 125 Epoch \n"
     ]
    },
    {
     "data": {
      "image/png": "[encoded data removed]",
      "text/plain": [
       "<Figure size 432x288 with 1 Axes>"
      ]
     },
     "metadata": {},
     "output_type": "display_data"
    }
   ],
   "source": [
    "plot_loss(log_path_em64tw_overallLastEm_overlunch,ylim=[0,10], MAX=30)"
   ]
  },
  {
   "cell_type": "markdown",
   "metadata": {},
   "source": [
    "## game"
   ]
  },
  {
   "cell_type": "code",
   "execution_count": 41,
   "metadata": {},
   "outputs": [],
   "source": [
    "log_path_em64tw_overallLastEm_overgame = \"../../emotion_dialogue_model/log/train20190425182413.log\""
   ]
  },
  {
   "cell_type": "code",
   "execution_count": 38,
   "metadata": {
    "scrolled": true
   },
   "outputs": [
    {
     "name": "stderr",
     "output_type": "stream",
     "text": [
      "No handles with labels found to put in legend.\n"
     ]
    },
    {
     "name": "stdout",
     "output_type": "stream",
     "text": [
      "Data directory: ../data/em_dial/splitted/lastEm/over_sample/game\n",
      "\n",
      "Vocaburary file: ../data/twitter_dial/vocab/spvocab_tw_label.model\n",
      "\n",
      "Model prefix: ./model/0422_64emoTw21_overallEm27_game\n",
      "\n",
      "Use emotion: True\n",
      "\n",
      "Checkpoint path: ./model/0422_64emoTw21_overallEm_27.mdl\n",
      "\n",
      "Pretrained: True\n",
      "\n",
      "Fix embedding: False\n",
      "\n",
      "num_layers: 2\n",
      "\n",
      "batch_size: 64\n",
      "\n",
      "hidden_size: 256\n",
      "\n",
      "tfd_lambda: 0.4\n",
      "\n",
      "lr_decay: 0.5773502691896258\n",
      "\n",
      "teacher_forcing_ratio: 1.0\n",
      "\n",
      "emotion_size: 64\n",
      "\n",
      "PAD_id: 0\n",
      "\n",
      "decay_step: 2500\n",
      "\n",
      "max_gradient: 50.0\n",
      "\n",
      "learning_rate: 3e-05\n",
      "\n",
      "max_epoch: 200\n",
      "\n",
      "EOS_id: 2\n",
      "\n",
      "MAX_UTTR_LEN: 50\n",
      "\n",
      "dropout: 0.1\n",
      "\n",
      "SOS_id: 1\n",
      "\n",
      "chance rate of loss :  -10.373491181781864\n",
      "initial validation loss :  4.5992\n",
      "Minimize validation loss(4.5361) : 4 Epoch \n",
      "Minimize training loss(1.3146) : 91 Epoch \n"
     ]
    },
    {
     "data": {
      "image/png": "[encoded data removed]",
      "text/plain": [
       "<Figure size 432x288 with 1 Axes>"
      ]
     },
     "metadata": {},
     "output_type": "display_data"
    }
   ],
   "source": [
    "plot_loss(log_path_em64tw_overallLastEm_overgame,ylim=[0,10], MAX=30)"
   ]
  },
  {
   "cell_type": "markdown",
   "metadata": {},
   "source": [
    "## sleep"
   ]
  },
  {
   "cell_type": "code",
   "execution_count": 40,
   "metadata": {},
   "outputs": [],
   "source": [
    "log_path_em64tw_overallLastEm_oversleep = \"../../emotion_dialogue_model/log/train20190425181656.log\""
   ]
  },
  {
   "cell_type": "code",
   "execution_count": 42,
   "metadata": {
    "scrolled": true
   },
   "outputs": [
    {
     "name": "stderr",
     "output_type": "stream",
     "text": [
      "No handles with labels found to put in legend.\n"
     ]
    },
    {
     "name": "stdout",
     "output_type": "stream",
     "text": [
      "Data directory: ../data/em_dial/splitted/lastEm/over_sample/sleep\n",
      "\n",
      "Vocaburary file: ../data/twitter_dial/vocab/spvocab_tw_label.model\n",
      "\n",
      "Model prefix: ./model/0422_64emoTw21_overallEm27_sleep\n",
      "\n",
      "Use emotion: True\n",
      "\n",
      "Checkpoint path: ./model/0422_64emoTw21_overallEm_27.mdl\n",
      "\n",
      "Pretrained: True\n",
      "\n",
      "Fix embedding: False\n",
      "\n",
      "PAD_id: 0\n",
      "\n",
      "tfd_lambda: 0.4\n",
      "\n",
      "max_epoch: 200\n",
      "\n",
      "emotion_size: 64\n",
      "\n",
      "decoder_learning_ratio: 1.0\n",
      "\n",
      "lr_decay: 0.5773502691896258\n",
      "\n",
      "inf_last: False\n",
      "\n",
      "MAX_UTTR_LEN: 50\n",
      "\n",
      "UNK_id: 3\n",
      "\n",
      "learning_rate: 3e-05\n",
      "\n",
      "dropout: 0.1\n",
      "\n",
      "decay_step: 2500\n",
      "\n",
      "l2_pooling: False\n",
      "\n",
      "hidden_size: 256\n",
      "\n",
      "num_layers: 2\n",
      "\n",
      "teacher_forcing_ratio: 1.0\n",
      "\n",
      "chance rate of loss :  -10.373491181781864\n",
      "initial validation loss :  5.0738\n",
      "Minimize validation loss(5.0126) : 4 Epoch \n",
      "Minimize training loss(0.9002) : 142 Epoch \n"
     ]
    },
    {
     "data": {
      "image/png": "[encoded data removed]",
      "text/plain": [
       "<Figure size 432x288 with 1 Axes>"
      ]
     },
     "metadata": {},
     "output_type": "display_data"
    }
   ],
   "source": [
    "plot_loss(log_path_em64tw_overallLastEm_oversleep,ylim=[0,10], MAX=30)"
   ]
  },
  {
   "cell_type": "code",
   "execution_count": null,
   "metadata": {},
   "outputs": [],
   "source": []
  }
 ],
 "metadata": {
  "kernelspec": {
   "display_name": "Python 3",
   "language": "python",
   "name": "python3"
  },
  "language_info": {
   "codemirror_mode": {
    "name": "ipython",
    "version": 3
   },
   "file_extension": ".py",
   "mimetype": "text/x-python",
   "name": "python",
   "nbconvert_exporter": "python",
   "pygments_lexer": "ipython3",
   "version": "3.5.5"
  }
 },
 "nbformat": 4,
 "nbformat_minor": 2
}
