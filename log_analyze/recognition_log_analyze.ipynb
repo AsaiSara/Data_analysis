{
 "cells": [
  {
   "cell_type": "code",
   "execution_count": 3,
   "metadata": {},
   "outputs": [],
   "source": [
    "from matplotlib import pyplot as plt\n",
    "import numpy as np"
   ]
  },
  {
   "cell_type": "code",
   "execution_count": 26,
   "metadata": {},
   "outputs": [],
   "source": [
    "def plot_loss(log_path, ylim=None, MAX=-1, plot=\"accuracy\"):\n",
    "    f = open(log_path, 'r')\n",
    "    log_line = f.readlines()\n",
    "    [print(log_line[i]) for i in range(23)]\n",
    "    \n",
    "    log_valid = [float(i.split(\" \")[-1].strip('\\n')) for i in log_line if i.split(\" \")[0] == \"Valid\" and plot in i.split(\" \")]\n",
    "    log_train = [float(i.split(\" \")[-1].strip('\\n')) for i in log_line if i.split(\" \")[0] == \"Train\" and plot in i.split(\" \")]\n",
    "    log_val = log_valid[:MAX]\n",
    "    #print(log_valid)\n",
    "    #print(log_train)\n",
    "    min_val = min(log_val)\n",
    "    max_val = max(log_val)\n",
    "    [print(\"Minimize validation loss({}) : {} Epoch \".format(min_val, i+1)) \n",
    "           for i, l in enumerate(log_val) if l == min_val ]\n",
    "    [print(\"Maximize validation loss({}) : {} Epoch \".format(max_val, i+1)) \n",
    "           for i, l in enumerate(log_val) if l == max_val ]\n",
    "    log_train = log_train[:MAX]\n",
    "    x = np.arange(len(log_val))\n",
    "    y1 = np.array(log_train)\n",
    "    y2 = np.array(log_val)\n",
    "    if ylim:\n",
    "        plt.ylim(ylim[0],ylim[1])\n",
    "    plt.grid()\n",
    "    plt.plot(x,y1)\n",
    "    plt.plot(x,y2)\n",
    "    plt.show"
   ]
  },
  {
   "cell_type": "code",
   "execution_count": 31,
   "metadata": {},
   "outputs": [],
   "source": [
    "def plot_inf(log_path):\n",
    "    f = open(log_path, 'r')\n",
    "    for log in f:\n",
    "        print(log)"
   ]
  },
  {
   "cell_type": "markdown",
   "metadata": {},
   "source": [
    "# ☆　Emotion recognition"
   ]
  },
  {
   "cell_type": "code",
   "execution_count": 22,
   "metadata": {},
   "outputs": [],
   "source": [
    "log_em_recog = \"../../emotion_dialogue_model/em_recog/log/em_recog_train20190219225509.log\"\n",
    "log_em_recog44_inf = \"../../emotion_dialogue_model/em_recog/log/inf20190220183348.log\""
   ]
  },
  {
   "cell_type": "code",
   "execution_count": 23,
   "metadata": {
    "scrolled": true
   },
   "outputs": [
    {
     "name": "stdout",
     "output_type": "stream",
     "text": [
      "Data directory: data/em_robo/splitted/all\n",
      "\n",
      "Vocaburary file: ../../data/twitter_dial/vocab/spvocab.model\n",
      "\n",
      "Model prefix: ./em_model/0219\n",
      "\n",
      "Use emotion: True\n",
      "\n",
      "Checkpoint path: None\n",
      "\n",
      "Pretrained: False\n",
      "\n",
      "Fix embedding: False\n",
      "\n",
      "SOS_id: 1\n",
      "\n",
      "dropout: 1.0\n",
      "\n",
      "max_gradient: 50.0\n",
      "\n",
      "teacher_forcing_ratio: 1.0\n",
      "\n",
      "UNK_id: 3\n",
      "\n",
      "tfd_lambda: 0.4\n",
      "\n",
      "EOS_id: 2\n",
      "\n",
      "num_layers: 2\n",
      "\n",
      "decoder_learning_ratio: 1.0\n",
      "\n",
      "learning_rate: 0.0001\n",
      "\n",
      "batch_size: 16\n",
      "\n",
      "hidden_size: 256\n",
      "\n",
      "l2_pooling: False\n",
      "\n",
      "inf_last: False\n",
      "\n",
      "MAX_UTTR_LEN: 100\n",
      "\n",
      "lr_decay: 0.5773502691896258\n",
      "\n",
      "Minimize validation loss(0.3042) : 1 Epoch \n",
      "Maximize validation loss(0.5307) : 37 Epoch \n"
     ]
    },
    {
     "data": {
      "image/png": "[encoded data removed]",
      "text/plain": [
       "<Figure size 432x288 with 1 Axes>"
      ]
     },
     "metadata": {},
     "output_type": "display_data"
    }
   ],
   "source": [
    "plot_loss(log_em_recog, ylim=[0,1], MAX=300, plot=\"accuracy\")"
   ]
  },
  {
   "cell_type": "code",
   "execution_count": 16,
   "metadata": {
    "scrolled": true
   },
   "outputs": [
    {
     "name": "stdout",
     "output_type": "stream",
     "text": [
      "Data directory: data/em_robo/splitted/all\n",
      "\n",
      "Vocaburary file: ../../data/twitter_dial/vocab/spvocab.model\n",
      "\n",
      "Model prefix: ./em_model/0219\n",
      "\n",
      "Use emotion: True\n",
      "\n",
      "Checkpoint path: None\n",
      "\n",
      "Pretrained: False\n",
      "\n",
      "Fix embedding: False\n",
      "\n",
      "SOS_id: 1\n",
      "\n",
      "dropout: 1.0\n",
      "\n",
      "max_gradient: 50.0\n",
      "\n",
      "teacher_forcing_ratio: 1.0\n",
      "\n",
      "UNK_id: 3\n",
      "\n",
      "tfd_lambda: 0.4\n",
      "\n",
      "EOS_id: 2\n",
      "\n",
      "num_layers: 2\n",
      "\n",
      "decoder_learning_ratio: 1.0\n",
      "\n",
      "learning_rate: 0.0001\n",
      "\n",
      "batch_size: 16\n",
      "\n",
      "hidden_size: 256\n",
      "\n",
      "l2_pooling: False\n",
      "\n",
      "inf_last: False\n",
      "\n",
      "MAX_UTTR_LEN: 100\n",
      "\n",
      "lr_decay: 0.5773502691896258\n",
      "\n",
      "Minimize validation loss(0.0718) : 39 Epoch \n",
      "Minimize validation loss(0.0718) : 40 Epoch \n",
      "Minimize validation loss(0.0718) : 41 Epoch \n",
      "Minimize validation loss(0.0718) : 42 Epoch \n",
      "Minimize validation loss(0.0718) : 43 Epoch \n",
      "Minimize validation loss(0.0718) : 44 Epoch \n",
      "Maximize validation loss(0.1035) : 120 Epoch \n"
     ]
    },
    {
     "data": {
      "image/png": "[encoded data removed]",
      "text/plain": [
       "<Figure size 432x288 with 1 Axes>"
      ]
     },
     "metadata": {},
     "output_type": "display_data"
    }
   ],
   "source": [
    "plot_loss(log_em_recog, ylim=[0,0.15],MAX=120, plot=\"loss\")"
   ]
  },
  {
   "cell_type": "code",
   "execution_count": 11,
   "metadata": {},
   "outputs": [
    {
     "name": "stdout",
     "output_type": "stream",
     "text": [
      "Data directory: data/em_robo/splitted/all\n",
      "\n",
      "Vocaburary file: ../../data/twitter_dial/vocab/spvocab.model\n",
      "\n",
      "Checkpoint path: ./em_model/0219_44.mdl\n",
      "\n",
      "Reading files...\n",
      "\n",
      "Read 861 dialogues\n",
      "\n",
      "accuracy: 0.5212264150943396\n",
      "\n",
      "loss: 0.07507085800170898\n",
      "\n",
      "[[145.  60.  81.  23.  22.]\n",
      "\n",
      " [ 43. 123.  48.   7.   2.]\n",
      "\n",
      " [ 35.  44. 134.  14.   1.]\n",
      "\n",
      " [  8.   3.   8.  40.   5.]\n",
      "\n",
      " [  0.   0.   0.   2.   0.]]\n",
      "\n",
      "accuracy per emoions:[0.4380664652567976, 0.3716012084592145, 0.40483383685800606, 0.12084592145015106, 0.0]\n",
      "\n"
     ]
    }
   ],
   "source": [
    "plot_inf(log_em_recog44_inf)"
   ]
  },
  {
   "cell_type": "code",
   "execution_count": 30,
   "metadata": {},
   "outputs": [],
   "source": [
    "log_em_recog_over = \"../../emotion_dialogue_model/em_recog/log/em_recog_train20190315172859.log\"\n",
    "log_em_recog_over_inf_34 = \"../../emotion_dialogue_model/em_recog/log/inf20190315181729.log\""
   ]
  },
  {
   "cell_type": "code",
   "execution_count": 25,
   "metadata": {
    "scrolled": true
   },
   "outputs": [
    {
     "name": "stdout",
     "output_type": "stream",
     "text": [
      "Data directory: data/em_robo/splitted/over_sample/all\n",
      "\n",
      "Vocaburary file: ../../data/twitter_dial/vocab/spvocab.model\n",
      "\n",
      "Model prefix: ./em_model/0315_overall\n",
      "\n",
      "Use emotion: True\n",
      "\n",
      "Checkpoint path: None\n",
      "\n",
      "Pretrained: False\n",
      "\n",
      "Fix embedding: False\n",
      "\n",
      "num_layers: 2\n",
      "\n",
      "max_epoch: 500\n",
      "\n",
      "teacher_forcing_ratio: 1.0\n",
      "\n",
      "decay_step: 600000\n",
      "\n",
      "dropout: 1.0\n",
      "\n",
      "UNK_id: 3\n",
      "\n",
      "MAX_UTTR_LEN: 100\n",
      "\n",
      "lr_decay: 0.5773502691896258\n",
      "\n",
      "tfd_lambda: 0.4\n",
      "\n",
      "l2_pooling: False\n",
      "\n",
      "hidden_size: 256\n",
      "\n",
      "PAD_id: 0\n",
      "\n",
      "batch_size: 16\n",
      "\n",
      "SOS_id: 1\n",
      "\n",
      "decoder_learning_ratio: 1.0\n",
      "\n",
      "learning_rate: 0.0001\n",
      "\n",
      "Minimize validation loss(0.3034) : 1 Epoch \n",
      "Maximize validation loss(0.5434) : 49 Epoch \n"
     ]
    },
    {
     "data": {
      "image/png": "[encoded data removed]",
      "text/plain": [
       "<Figure size 432x288 with 1 Axes>"
      ]
     },
     "metadata": {},
     "output_type": "display_data"
    }
   ],
   "source": [
    "plot_loss(log_em_recog_over, ylim=[0,1], MAX=300, plot=\"accuracy\")"
   ]
  },
  {
   "cell_type": "code",
   "execution_count": 28,
   "metadata": {
    "scrolled": true
   },
   "outputs": [
    {
     "name": "stdout",
     "output_type": "stream",
     "text": [
      "Data directory: data/em_robo/splitted/over_sample/all\n",
      "\n",
      "Vocaburary file: ../../data/twitter_dial/vocab/spvocab.model\n",
      "\n",
      "Model prefix: ./em_model/0315_overall\n",
      "\n",
      "Use emotion: True\n",
      "\n",
      "Checkpoint path: None\n",
      "\n",
      "Pretrained: False\n",
      "\n",
      "Fix embedding: False\n",
      "\n",
      "num_layers: 2\n",
      "\n",
      "max_epoch: 500\n",
      "\n",
      "teacher_forcing_ratio: 1.0\n",
      "\n",
      "decay_step: 600000\n",
      "\n",
      "dropout: 1.0\n",
      "\n",
      "UNK_id: 3\n",
      "\n",
      "MAX_UTTR_LEN: 100\n",
      "\n",
      "lr_decay: 0.5773502691896258\n",
      "\n",
      "tfd_lambda: 0.4\n",
      "\n",
      "l2_pooling: False\n",
      "\n",
      "hidden_size: 256\n",
      "\n",
      "PAD_id: 0\n",
      "\n",
      "batch_size: 16\n",
      "\n",
      "SOS_id: 1\n",
      "\n",
      "decoder_learning_ratio: 1.0\n",
      "\n",
      "learning_rate: 0.0001\n",
      "\n",
      "Minimize validation loss(0.0763) : 29 Epoch \n",
      "Minimize validation loss(0.0763) : 30 Epoch \n",
      "Minimize validation loss(0.0763) : 31 Epoch \n",
      "Minimize validation loss(0.0763) : 32 Epoch \n",
      "Minimize validation loss(0.0763) : 33 Epoch \n",
      "Minimize validation loss(0.0763) : 34 Epoch \n",
      "Maximize validation loss(0.0973) : 1 Epoch \n"
     ]
    },
    {
     "data": {
      "image/png": "[encoded data removed]",
      "text/plain": [
       "<Figure size 432x288 with 1 Axes>"
      ]
     },
     "metadata": {},
     "output_type": "display_data"
    }
   ],
   "source": [
    "plot_loss(log_em_recog_over, ylim=[0,0.1], MAX=300, plot=\"loss\")"
   ]
  },
  {
   "cell_type": "code",
   "execution_count": 32,
   "metadata": {},
   "outputs": [
    {
     "name": "stdout",
     "output_type": "stream",
     "text": [
      "2019-03-15 18:17:29,439 INFO logger :Data directory: data/em_robo/splitted/all\n",
      "\n",
      "2019-03-15 18:17:29,439 INFO logger :Vocaburary file: ../../data/twitter_dial/vocab/spvocab.model\n",
      "\n",
      "2019-03-15 18:17:29,439 INFO logger :Checkpoint path: ./em_model/0315_overall_34.mdl\n",
      "\n",
      "2019-03-15 18:17:29,440 INFO logger :Batch size: 1\n",
      "\n",
      "2019-03-15 18:17:32,780 INFO logger.dataset :Reading files...\n",
      "\n",
      "2019-03-15 18:17:32,811 INFO logger.dataset :Read 861 dialogues\n",
      "\n",
      "2019-03-15 18:17:35,901 INFO logger :accuracy: 0.5760743321718932\n",
      "\n",
      "2019-03-15 18:17:35,902 INFO logger :loss: 1.1158809661865234\n",
      "\n",
      "2019-03-15 18:17:35,902 INFO logger :[[129.  35.  53.   9.  10.]\n",
      "\n",
      " [ 37. 140.  43.   6.   0.]\n",
      "\n",
      " [ 40.  42. 156.  11.   3.]\n",
      "\n",
      " [ 19.  10.  14.  58.   4.]\n",
      "\n",
      " [  9.   5.   8.   7.  13.]]\n",
      "\n",
      "2019-03-15 18:17:35,902 INFO logger :precision per emoions:\n",
      "\n",
      "[0.5466101694915254, 0.6194690265486725, 0.6190476190476191, 0.5523809523809524, 0.30952380952380953]\n",
      "\n",
      "2019-03-15 18:17:35,902 INFO logger :recall per emoions:\n",
      "\n",
      "[0.5512820512820513, 0.603448275862069, 0.5693430656934306, 0.6373626373626373, 0.43333333333333335]\n",
      "\n"
     ]
    }
   ],
   "source": [
    "plot_inf(log_em_recog_over_inf_34)"
   ]
  },
  {
   "cell_type": "markdown",
   "metadata": {},
   "source": [
    "# ☆　Domain recognition"
   ]
  },
  {
   "cell_type": "code",
   "execution_count": 35,
   "metadata": {},
   "outputs": [],
   "source": [
    "log_em_recog_over_domain = \"../../emotion_dialogue_model/em_recog/log/em_recog_train20190315201510.log\"\n",
    "log_em_recog_over_inf_34 = \"../../emotion_dialogue_model/em_recog/log/inf20190315181729.log\""
   ]
  },
  {
   "cell_type": "code",
   "execution_count": 40,
   "metadata": {
    "scrolled": true
   },
   "outputs": [
    {
     "name": "stdout",
     "output_type": "stream",
     "text": [
      "Data directory: data/em_robo/splitted/over_sample/all\n",
      "\n",
      "Vocaburary file: ../../data/twitter_dial/vocab/spvocab.model\n",
      "\n",
      "Model prefix: ./em_model/0315_domain_over\n",
      "\n",
      "Use emotion: False\n",
      "\n",
      "Use domain: True\n",
      "\n",
      "Checkpoint path: None\n",
      "\n",
      "Pretrained: False\n",
      "\n",
      "Fix embedding: False\n",
      "\n",
      "dropout: 1.0\n",
      "\n",
      "max_gradient: 50.0\n",
      "\n",
      "tfd_lambda: 0.4\n",
      "\n",
      "PAD_id: 0\n",
      "\n",
      "EOS_id: 2\n",
      "\n",
      "inf_last: False\n",
      "\n",
      "max_epoch: 500\n",
      "\n",
      "MAX_UTTR_LEN: 100\n",
      "\n",
      "lr_decay: 0.5773502691896258\n",
      "\n",
      "learning_rate: 0.0001\n",
      "\n",
      "UNK_id: 3\n",
      "\n",
      "decoder_learning_ratio: 1.0\n",
      "\n",
      "SOS_id: 1\n",
      "\n",
      "decay_step: 600000\n",
      "\n",
      "num_layers: 2\n",
      "\n",
      "Minimize validation loss(0.2123) : 1 Epoch \n",
      "Maximize validation loss(0.5462) : 56 Epoch \n"
     ]
    },
    {
     "data": {
      "image/png": "[encoded data removed]",
      "text/plain": [
       "<Figure size 432x288 with 1 Axes>"
      ]
     },
     "metadata": {},
     "output_type": "display_data"
    }
   ],
   "source": [
    "plot_loss(log_em_recog_over_domain, ylim=[0,1], MAX=300, plot=\"accuracy\")"
   ]
  },
  {
   "cell_type": "code",
   "execution_count": 37,
   "metadata": {
    "scrolled": true
   },
   "outputs": [
    {
     "name": "stdout",
     "output_type": "stream",
     "text": [
      "Data directory: data/em_robo/splitted/over_sample/all\n",
      "\n",
      "Vocaburary file: ../../data/twitter_dial/vocab/spvocab.model\n",
      "\n",
      "Model prefix: ./em_model/0315_domain_over\n",
      "\n",
      "Use emotion: False\n",
      "\n",
      "Use domain: True\n",
      "\n",
      "Checkpoint path: None\n",
      "\n",
      "Pretrained: False\n",
      "\n",
      "Fix embedding: False\n",
      "\n",
      "dropout: 1.0\n",
      "\n",
      "max_gradient: 50.0\n",
      "\n",
      "tfd_lambda: 0.4\n",
      "\n",
      "PAD_id: 0\n",
      "\n",
      "EOS_id: 2\n",
      "\n",
      "inf_last: False\n",
      "\n",
      "max_epoch: 500\n",
      "\n",
      "MAX_UTTR_LEN: 100\n",
      "\n",
      "lr_decay: 0.5773502691896258\n",
      "\n",
      "learning_rate: 0.0001\n",
      "\n",
      "UNK_id: 3\n",
      "\n",
      "decoder_learning_ratio: 1.0\n",
      "\n",
      "SOS_id: 1\n",
      "\n",
      "decay_step: 600000\n",
      "\n",
      "num_layers: 2\n",
      "\n",
      "Minimize validation loss(0.0772) : 33 Epoch \n",
      "Minimize validation loss(0.0772) : 35 Epoch \n",
      "Minimize validation loss(0.0772) : 36 Epoch \n",
      "Maximize validation loss(0.1163) : 120 Epoch \n"
     ]
    },
    {
     "data": {
      "image/png": "[encoded data removed]",
      "text/plain": [
       "<Figure size 432x288 with 1 Axes>"
      ]
     },
     "metadata": {},
     "output_type": "display_data"
    }
   ],
   "source": [
    "plot_loss(log_em_recog_over_domain, ylim=[0,0.1], MAX=300, plot=\"loss\")"
   ]
  },
  {
   "cell_type": "code",
   "execution_count": null,
   "metadata": {},
   "outputs": [],
   "source": []
  }
 ],
 "metadata": {
  "kernelspec": {
   "display_name": "Python 3",
   "language": "python",
   "name": "python3"
  },
  "language_info": {
   "codemirror_mode": {
    "name": "ipython",
    "version": 3
   },
   "file_extension": ".py",
   "mimetype": "text/x-python",
   "name": "python",
   "nbconvert_exporter": "python",
   "pygments_lexer": "ipython3",
   "version": "3.5.5"
  }
 },
 "nbformat": 4,
 "nbformat_minor": 2
}
